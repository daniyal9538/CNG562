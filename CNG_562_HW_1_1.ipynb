{
  "nbformat": 4,
  "nbformat_minor": 0,
  "metadata": {
    "colab": {
      "name": "CNG 562 HW 1 1.ipynb",
      "version": "0.3.2",
      "provenance": [],
      "toc_visible": true,
      "include_colab_link": true
    },
    "kernelspec": {
      "name": "python3",
      "display_name": "Python 3"
    },
    "accelerator": "GPU"
  },
  "cells": [
    {
      "cell_type": "markdown",
      "metadata": {
        "id": "view-in-github",
        "colab_type": "text"
      },
      "source": [
        "<a href=\"https://colab.research.google.com/github/daniyal9538/CNG562/blob/master/CNG_562_HW_1_1.ipynb\" target=\"_parent\"><img src=\"https://colab.research.google.com/assets/colab-badge.svg\" alt=\"Open In Colab\"/></a>"
      ]
    },
    {
      "metadata": {
        "id": "TBp0abxt6nmD",
        "colab_type": "text"
      },
      "cell_type": "markdown",
      "source": [
        "#Get all dependencies"
      ]
    },
    {
      "metadata": {
        "id": "HLUIOMGE6kyF",
        "colab_type": "code",
        "colab": {}
      },
      "cell_type": "code",
      "source": [
        "import numpy as np\n",
        "import pandas as pd\n",
        "import seaborn as sns\n",
        "from matplotlib import pyplot as plt\n",
        "from pandas.api.types import CategoricalDtype\n",
        "from sklearn import tree\n",
        "from sklearn.metrics import accuracy_score\n",
        "from sklearn.linear_model import LogisticRegression\n",
        "from sklearn.model_selection import GridSearchCV\n",
        "from sklearn.preprocessing import StandardScaler\n",
        "from sklearn.model_selection import cross_val_score\n",
        "from sklearn.model_selection import train_test_split\n",
        "from sklearn import svm\n",
        "from sklearn.neighbors import KNeighborsClassifier as KNN\n",
        "from IPython.display import clear_output\n",
        "%matplotlib inline"
      ],
      "execution_count": 0,
      "outputs": []
    },
    {
      "metadata": {
        "id": "coa167NJ3x_A",
        "colab_type": "text"
      },
      "cell_type": "markdown",
      "source": [
        "#Upload Data\n",
        "Data was downloaded from Kaggle to a local pc https://www.kaggle.com/uciml/adult-census-income\n",
        "Then uploaded to this notebook\n",
        "Data was put into a pandas datafram"
      ]
    },
    {
      "metadata": {
        "id": "Je6F1RMWx6YR",
        "colab_type": "code",
        "outputId": "c82fee34-dbc9-49e6-db0d-42131b60b531",
        "colab": {
          "resources": {
            "http://localhost:8080/nbextensions/google.colab/files.js": {
              "data": "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",
              "ok": true,
              "headers": [
                [
                  "content-type",
                  "application/javascript"
                ]
              ],
              "status": 200,
              "status_text": ""
            }
          },
          "base_uri": "https://localhost:8080/",
          "height": 91
        }
      },
      "cell_type": "code",
      "source": [
        "from google.colab import files\n",
        "\n",
        "uploaded = files.upload()\n",
        "\n",
        "for fn in uploaded.keys():\n",
        "  print('User uploaded file \"{name}\" with length {length} bytes'.format(\n",
        "      name=fn, length=len(uploaded[fn])))"
      ],
      "execution_count": 0,
      "outputs": [
        {
          "output_type": "display_data",
          "data": {
            "text/html": [
              "\n",
              "     <input type=\"file\" id=\"files-665b8aca-b809-4e9b-9ef6-d6bbe3ae1122\" name=\"files[]\" multiple disabled />\n",
              "     <output id=\"result-665b8aca-b809-4e9b-9ef6-d6bbe3ae1122\">\n",
              "      Upload widget is only available when the cell has been executed in the\n",
              "      current browser session. Please rerun this cell to enable.\n",
              "      </output>\n",
              "      <script src=\"/nbextensions/google.colab/files.js\"></script> "
            ],
            "text/plain": [
              "<IPython.core.display.HTML object>"
            ]
          },
          "metadata": {
            "tags": []
          }
        },
        {
          "output_type": "stream",
          "text": [
            "Saving adult.csv to adult.csv\n",
            "User uploaded file \"adult.csv\" with length 4104734 bytes\n"
          ],
          "name": "stdout"
        }
      ]
    },
    {
      "metadata": {
        "id": "UF6U2WPp4J1i",
        "colab_type": "code",
        "colab": {}
      },
      "cell_type": "code",
      "source": [
        "columns = [\"age\", \"workClass\", \"fnlwgt\", \"education\", \"education-num\",\"marital-status\", \"occupation\", \"relationship\",\n",
        "          \"race\", \"sex\", \"capital-gain\", \"capital-loss\", \"hours-per-week\", \"native-country\", \"income\"]\n",
        "#data has ? in place of missing values, need to replace those values with NaN values in df           \n",
        "data = pd.read_csv('adult.csv', names=columns, \n",
        "              na_values='?', skiprows=[0])"
      ],
      "execution_count": 0,
      "outputs": []
    },
    {
      "metadata": {
        "id": "QM2lqA366vRe",
        "colab_type": "text"
      },
      "cell_type": "markdown",
      "source": [
        "#Data Analysis\n",
        "The data analysis will be split into 3 parts.\n",
        "\n",
        "1.   General data analysis\n",
        "2.  Numerical data analysis\n",
        "3. Categorical data analysis\n",
        "\n",
        "I will describe a breif summary of all findings after each section\n",
        "NOTE: The data analysis presented is thorough for the sake of being thorough to showcase understanding of data analysis\n",
        "Not all analysis is extremely relevant to the models that will be built, but i have left out the extremely irrelevant results from preliminary analysis as to not make this notebook excessively long\n"
      ]
    },
    {
      "metadata": {
        "id": "_4fAzGK_8_08",
        "colab_type": "text"
      },
      "cell_type": "markdown",
      "source": [
        "##General Data Analysis"
      ]
    },
    {
      "metadata": {
        "id": "KlmBdYcg4m6y",
        "colab_type": "code",
        "outputId": "0e4efb09-dc54-4d1c-e22e-74a6e37b8e78",
        "colab": {
          "base_uri": "https://localhost:8080/",
          "height": 494
        }
      },
      "cell_type": "code",
      "source": [
        "data.head().T"
      ],
      "execution_count": 0,
      "outputs": [
        {
          "output_type": "execute_result",
          "data": {
            "text/html": [
              "<div>\n",
              "<style scoped>\n",
              "    .dataframe tbody tr th:only-of-type {\n",
              "        vertical-align: middle;\n",
              "    }\n",
              "\n",
              "    .dataframe tbody tr th {\n",
              "        vertical-align: top;\n",
              "    }\n",
              "\n",
              "    .dataframe thead th {\n",
              "        text-align: right;\n",
              "    }\n",
              "</style>\n",
              "<table border=\"1\" class=\"dataframe\">\n",
              "  <thead>\n",
              "    <tr style=\"text-align: right;\">\n",
              "      <th></th>\n",
              "      <th>0</th>\n",
              "      <th>1</th>\n",
              "      <th>2</th>\n",
              "      <th>3</th>\n",
              "      <th>4</th>\n",
              "    </tr>\n",
              "  </thead>\n",
              "  <tbody>\n",
              "    <tr>\n",
              "      <th>age</th>\n",
              "      <td>90</td>\n",
              "      <td>82</td>\n",
              "      <td>66</td>\n",
              "      <td>54</td>\n",
              "      <td>41</td>\n",
              "    </tr>\n",
              "    <tr>\n",
              "      <th>workClass</th>\n",
              "      <td>NaN</td>\n",
              "      <td>Private</td>\n",
              "      <td>NaN</td>\n",
              "      <td>Private</td>\n",
              "      <td>Private</td>\n",
              "    </tr>\n",
              "    <tr>\n",
              "      <th>fnlwgt</th>\n",
              "      <td>77053</td>\n",
              "      <td>132870</td>\n",
              "      <td>186061</td>\n",
              "      <td>140359</td>\n",
              "      <td>264663</td>\n",
              "    </tr>\n",
              "    <tr>\n",
              "      <th>education</th>\n",
              "      <td>HS-grad</td>\n",
              "      <td>HS-grad</td>\n",
              "      <td>Some-college</td>\n",
              "      <td>7th-8th</td>\n",
              "      <td>Some-college</td>\n",
              "    </tr>\n",
              "    <tr>\n",
              "      <th>education-num</th>\n",
              "      <td>9</td>\n",
              "      <td>9</td>\n",
              "      <td>10</td>\n",
              "      <td>4</td>\n",
              "      <td>10</td>\n",
              "    </tr>\n",
              "    <tr>\n",
              "      <th>marital-status</th>\n",
              "      <td>Widowed</td>\n",
              "      <td>Widowed</td>\n",
              "      <td>Widowed</td>\n",
              "      <td>Divorced</td>\n",
              "      <td>Separated</td>\n",
              "    </tr>\n",
              "    <tr>\n",
              "      <th>occupation</th>\n",
              "      <td>NaN</td>\n",
              "      <td>Exec-managerial</td>\n",
              "      <td>NaN</td>\n",
              "      <td>Machine-op-inspct</td>\n",
              "      <td>Prof-specialty</td>\n",
              "    </tr>\n",
              "    <tr>\n",
              "      <th>relationship</th>\n",
              "      <td>Not-in-family</td>\n",
              "      <td>Not-in-family</td>\n",
              "      <td>Unmarried</td>\n",
              "      <td>Unmarried</td>\n",
              "      <td>Own-child</td>\n",
              "    </tr>\n",
              "    <tr>\n",
              "      <th>race</th>\n",
              "      <td>White</td>\n",
              "      <td>White</td>\n",
              "      <td>Black</td>\n",
              "      <td>White</td>\n",
              "      <td>White</td>\n",
              "    </tr>\n",
              "    <tr>\n",
              "      <th>sex</th>\n",
              "      <td>Female</td>\n",
              "      <td>Female</td>\n",
              "      <td>Female</td>\n",
              "      <td>Female</td>\n",
              "      <td>Female</td>\n",
              "    </tr>\n",
              "    <tr>\n",
              "      <th>capital-gain</th>\n",
              "      <td>0</td>\n",
              "      <td>0</td>\n",
              "      <td>0</td>\n",
              "      <td>0</td>\n",
              "      <td>0</td>\n",
              "    </tr>\n",
              "    <tr>\n",
              "      <th>capital-loss</th>\n",
              "      <td>4356</td>\n",
              "      <td>4356</td>\n",
              "      <td>4356</td>\n",
              "      <td>3900</td>\n",
              "      <td>3900</td>\n",
              "    </tr>\n",
              "    <tr>\n",
              "      <th>hours-per-week</th>\n",
              "      <td>40</td>\n",
              "      <td>18</td>\n",
              "      <td>40</td>\n",
              "      <td>40</td>\n",
              "      <td>40</td>\n",
              "    </tr>\n",
              "    <tr>\n",
              "      <th>native-country</th>\n",
              "      <td>United-States</td>\n",
              "      <td>United-States</td>\n",
              "      <td>United-States</td>\n",
              "      <td>United-States</td>\n",
              "      <td>United-States</td>\n",
              "    </tr>\n",
              "    <tr>\n",
              "      <th>income</th>\n",
              "      <td>&lt;=50K</td>\n",
              "      <td>&lt;=50K</td>\n",
              "      <td>&lt;=50K</td>\n",
              "      <td>&lt;=50K</td>\n",
              "      <td>&lt;=50K</td>\n",
              "    </tr>\n",
              "  </tbody>\n",
              "</table>\n",
              "</div>"
            ],
            "text/plain": [
              "                            0                1              2  \\\n",
              "age                        90               82             66   \n",
              "workClass                 NaN          Private            NaN   \n",
              "fnlwgt                  77053           132870         186061   \n",
              "education             HS-grad          HS-grad   Some-college   \n",
              "education-num               9                9             10   \n",
              "marital-status        Widowed          Widowed        Widowed   \n",
              "occupation                NaN  Exec-managerial            NaN   \n",
              "relationship    Not-in-family    Not-in-family      Unmarried   \n",
              "race                    White            White          Black   \n",
              "sex                    Female           Female         Female   \n",
              "capital-gain                0                0              0   \n",
              "capital-loss             4356             4356           4356   \n",
              "hours-per-week             40               18             40   \n",
              "native-country  United-States    United-States  United-States   \n",
              "income                  <=50K            <=50K          <=50K   \n",
              "\n",
              "                                3               4  \n",
              "age                            54              41  \n",
              "workClass                 Private         Private  \n",
              "fnlwgt                     140359          264663  \n",
              "education                 7th-8th    Some-college  \n",
              "education-num                   4              10  \n",
              "marital-status           Divorced       Separated  \n",
              "occupation      Machine-op-inspct  Prof-specialty  \n",
              "relationship            Unmarried       Own-child  \n",
              "race                        White           White  \n",
              "sex                        Female          Female  \n",
              "capital-gain                    0               0  \n",
              "capital-loss                 3900            3900  \n",
              "hours-per-week                 40              40  \n",
              "native-country      United-States   United-States  \n",
              "income                      <=50K           <=50K  "
            ]
          },
          "metadata": {
            "tags": []
          },
          "execution_count": 4
        }
      ]
    },
    {
      "metadata": {
        "id": "ZSTT-X2g5TFa",
        "colab_type": "code",
        "outputId": "582361c4-5c94-4e7c-96db-010fd103a940",
        "colab": {
          "base_uri": "https://localhost:8080/",
          "height": 286
        }
      },
      "cell_type": "code",
      "source": [
        "data.describe()"
      ],
      "execution_count": 0,
      "outputs": [
        {
          "output_type": "execute_result",
          "data": {
            "text/html": [
              "<div>\n",
              "<style scoped>\n",
              "    .dataframe tbody tr th:only-of-type {\n",
              "        vertical-align: middle;\n",
              "    }\n",
              "\n",
              "    .dataframe tbody tr th {\n",
              "        vertical-align: top;\n",
              "    }\n",
              "\n",
              "    .dataframe thead th {\n",
              "        text-align: right;\n",
              "    }\n",
              "</style>\n",
              "<table border=\"1\" class=\"dataframe\">\n",
              "  <thead>\n",
              "    <tr style=\"text-align: right;\">\n",
              "      <th></th>\n",
              "      <th>age</th>\n",
              "      <th>fnlwgt</th>\n",
              "      <th>education-num</th>\n",
              "      <th>capital-gain</th>\n",
              "      <th>capital-loss</th>\n",
              "      <th>hours-per-week</th>\n",
              "    </tr>\n",
              "  </thead>\n",
              "  <tbody>\n",
              "    <tr>\n",
              "      <th>count</th>\n",
              "      <td>32561.000000</td>\n",
              "      <td>3.256100e+04</td>\n",
              "      <td>32561.000000</td>\n",
              "      <td>32561.000000</td>\n",
              "      <td>32561.000000</td>\n",
              "      <td>32561.000000</td>\n",
              "    </tr>\n",
              "    <tr>\n",
              "      <th>mean</th>\n",
              "      <td>38.581647</td>\n",
              "      <td>1.897784e+05</td>\n",
              "      <td>10.080679</td>\n",
              "      <td>1077.648844</td>\n",
              "      <td>87.303830</td>\n",
              "      <td>40.437456</td>\n",
              "    </tr>\n",
              "    <tr>\n",
              "      <th>std</th>\n",
              "      <td>13.640433</td>\n",
              "      <td>1.055500e+05</td>\n",
              "      <td>2.572720</td>\n",
              "      <td>7385.292085</td>\n",
              "      <td>402.960219</td>\n",
              "      <td>12.347429</td>\n",
              "    </tr>\n",
              "    <tr>\n",
              "      <th>min</th>\n",
              "      <td>17.000000</td>\n",
              "      <td>1.228500e+04</td>\n",
              "      <td>1.000000</td>\n",
              "      <td>0.000000</td>\n",
              "      <td>0.000000</td>\n",
              "      <td>1.000000</td>\n",
              "    </tr>\n",
              "    <tr>\n",
              "      <th>25%</th>\n",
              "      <td>28.000000</td>\n",
              "      <td>1.178270e+05</td>\n",
              "      <td>9.000000</td>\n",
              "      <td>0.000000</td>\n",
              "      <td>0.000000</td>\n",
              "      <td>40.000000</td>\n",
              "    </tr>\n",
              "    <tr>\n",
              "      <th>50%</th>\n",
              "      <td>37.000000</td>\n",
              "      <td>1.783560e+05</td>\n",
              "      <td>10.000000</td>\n",
              "      <td>0.000000</td>\n",
              "      <td>0.000000</td>\n",
              "      <td>40.000000</td>\n",
              "    </tr>\n",
              "    <tr>\n",
              "      <th>75%</th>\n",
              "      <td>48.000000</td>\n",
              "      <td>2.370510e+05</td>\n",
              "      <td>12.000000</td>\n",
              "      <td>0.000000</td>\n",
              "      <td>0.000000</td>\n",
              "      <td>45.000000</td>\n",
              "    </tr>\n",
              "    <tr>\n",
              "      <th>max</th>\n",
              "      <td>90.000000</td>\n",
              "      <td>1.484705e+06</td>\n",
              "      <td>16.000000</td>\n",
              "      <td>99999.000000</td>\n",
              "      <td>4356.000000</td>\n",
              "      <td>99.000000</td>\n",
              "    </tr>\n",
              "  </tbody>\n",
              "</table>\n",
              "</div>"
            ],
            "text/plain": [
              "                age        fnlwgt  education-num  capital-gain  capital-loss  \\\n",
              "count  32561.000000  3.256100e+04   32561.000000  32561.000000  32561.000000   \n",
              "mean      38.581647  1.897784e+05      10.080679   1077.648844     87.303830   \n",
              "std       13.640433  1.055500e+05       2.572720   7385.292085    402.960219   \n",
              "min       17.000000  1.228500e+04       1.000000      0.000000      0.000000   \n",
              "25%       28.000000  1.178270e+05       9.000000      0.000000      0.000000   \n",
              "50%       37.000000  1.783560e+05      10.000000      0.000000      0.000000   \n",
              "75%       48.000000  2.370510e+05      12.000000      0.000000      0.000000   \n",
              "max       90.000000  1.484705e+06      16.000000  99999.000000   4356.000000   \n",
              "\n",
              "       hours-per-week  \n",
              "count    32561.000000  \n",
              "mean        40.437456  \n",
              "std         12.347429  \n",
              "min          1.000000  \n",
              "25%         40.000000  \n",
              "50%         40.000000  \n",
              "75%         45.000000  \n",
              "max         99.000000  "
            ]
          },
          "metadata": {
            "tags": []
          },
          "execution_count": 5
        }
      ]
    },
    {
      "metadata": {
        "id": "X-3Ns78q5k47",
        "colab_type": "code",
        "outputId": "837f399d-ccc9-4641-9b61-5868593ae2a0",
        "colab": {
          "base_uri": "https://localhost:8080/",
          "height": 351
        }
      },
      "cell_type": "code",
      "source": [
        "data.info()"
      ],
      "execution_count": 0,
      "outputs": [
        {
          "output_type": "stream",
          "text": [
            "<class 'pandas.core.frame.DataFrame'>\n",
            "RangeIndex: 32561 entries, 0 to 32560\n",
            "Data columns (total 15 columns):\n",
            "age               32561 non-null int64\n",
            "workClass         30725 non-null object\n",
            "fnlwgt            32561 non-null int64\n",
            "education         32561 non-null object\n",
            "education-num     32561 non-null int64\n",
            "marital-status    32561 non-null object\n",
            "occupation        30718 non-null object\n",
            "relationship      32561 non-null object\n",
            "race              32561 non-null object\n",
            "sex               32561 non-null object\n",
            "capital-gain      32561 non-null int64\n",
            "capital-loss      32561 non-null int64\n",
            "hours-per-week    32561 non-null int64\n",
            "native-country    31978 non-null object\n",
            "income            32561 non-null object\n",
            "dtypes: int64(6), object(9)\n",
            "memory usage: 3.7+ MB\n"
          ],
          "name": "stdout"
        }
      ]
    },
    {
      "metadata": {
        "id": "4_R5ODgE5cH6",
        "colab_type": "code",
        "outputId": "73746687-bdde-492b-94a3-fc7436bafdab",
        "colab": {
          "base_uri": "https://localhost:8080/",
          "height": 33
        }
      },
      "cell_type": "code",
      "source": [
        "len(data)"
      ],
      "execution_count": 0,
      "outputs": [
        {
          "output_type": "execute_result",
          "data": {
            "text/plain": [
              "32561"
            ]
          },
          "metadata": {
            "tags": []
          },
          "execution_count": 7
        }
      ]
    },
    {
      "metadata": {
        "id": "zecbpyOQbtuU",
        "colab_type": "code",
        "outputId": "ff4da848-956f-471d-e706-3abf319f33da",
        "colab": {
          "base_uri": "https://localhost:8080/",
          "height": 351
        }
      },
      "cell_type": "code",
      "source": [
        "#drop NaN values\n",
        "data = data.dropna()\n",
        "data.info()"
      ],
      "execution_count": 0,
      "outputs": [
        {
          "output_type": "stream",
          "text": [
            "<class 'pandas.core.frame.DataFrame'>\n",
            "Int64Index: 30162 entries, 1 to 32560\n",
            "Data columns (total 15 columns):\n",
            "age               30162 non-null int64\n",
            "workClass         30162 non-null object\n",
            "fnlwgt            30162 non-null int64\n",
            "education         30162 non-null object\n",
            "education-num     30162 non-null int64\n",
            "marital-status    30162 non-null object\n",
            "occupation        30162 non-null object\n",
            "relationship      30162 non-null object\n",
            "race              30162 non-null object\n",
            "sex               30162 non-null object\n",
            "capital-gain      30162 non-null int64\n",
            "capital-loss      30162 non-null int64\n",
            "hours-per-week    30162 non-null int64\n",
            "native-country    30162 non-null object\n",
            "income            30162 non-null object\n",
            "dtypes: int64(6), object(9)\n",
            "memory usage: 3.7+ MB\n"
          ],
          "name": "stdout"
        }
      ]
    },
    {
      "metadata": {
        "id": "vWRJUz8h4DSa",
        "colab_type": "text"
      },
      "cell_type": "markdown",
      "source": [
        "###Summary from general data analysis\n",
        "\n",
        "\n",
        "*   Total 32561 datapoints in dataset\n",
        "*   All numerical columns have no missing values\n",
        "*   workClass, occupation, native-country all have missing values\n",
        "\n"
      ]
    },
    {
      "metadata": {
        "id": "NXIuyqbO9DB0",
        "colab_type": "text"
      },
      "cell_type": "markdown",
      "source": [
        "##Numerical Data Analysis\n",
        "\n",
        "\n"
      ]
    },
    {
      "metadata": {
        "id": "_ftzfMKKB_me",
        "colab_type": "text"
      },
      "cell_type": "markdown",
      "source": [
        "we are going to add a new column to our dataset, it will be a binary value for income\n",
        "0 if incomes <=50k\n",
        "1 if incomes >=50k"
      ]
    },
    {
      "metadata": {
        "id": "9R8ovPS4CNMO",
        "colab_type": "code",
        "outputId": "a694c37d-ef7b-4c79-ccf9-663400503143",
        "colab": {
          "base_uri": "https://localhost:8080/",
          "height": 524
        }
      },
      "cell_type": "code",
      "source": [
        "data.loc[data.income == '<=50K', 'binaryIncome'] = 0\n",
        "data.loc[data.income == '>50K', 'binaryIncome'] = 1\n",
        "data['binaryIncome'] = data['binaryIncome'].astype(np.int64)\n",
        "data.head().T"
      ],
      "execution_count": 0,
      "outputs": [
        {
          "output_type": "execute_result",
          "data": {
            "text/html": [
              "<div>\n",
              "<style scoped>\n",
              "    .dataframe tbody tr th:only-of-type {\n",
              "        vertical-align: middle;\n",
              "    }\n",
              "\n",
              "    .dataframe tbody tr th {\n",
              "        vertical-align: top;\n",
              "    }\n",
              "\n",
              "    .dataframe thead th {\n",
              "        text-align: right;\n",
              "    }\n",
              "</style>\n",
              "<table border=\"1\" class=\"dataframe\">\n",
              "  <thead>\n",
              "    <tr style=\"text-align: right;\">\n",
              "      <th></th>\n",
              "      <th>1</th>\n",
              "      <th>3</th>\n",
              "      <th>4</th>\n",
              "      <th>5</th>\n",
              "      <th>6</th>\n",
              "    </tr>\n",
              "  </thead>\n",
              "  <tbody>\n",
              "    <tr>\n",
              "      <th>age</th>\n",
              "      <td>82</td>\n",
              "      <td>54</td>\n",
              "      <td>41</td>\n",
              "      <td>34</td>\n",
              "      <td>38</td>\n",
              "    </tr>\n",
              "    <tr>\n",
              "      <th>workClass</th>\n",
              "      <td>Private</td>\n",
              "      <td>Private</td>\n",
              "      <td>Private</td>\n",
              "      <td>Private</td>\n",
              "      <td>Private</td>\n",
              "    </tr>\n",
              "    <tr>\n",
              "      <th>fnlwgt</th>\n",
              "      <td>132870</td>\n",
              "      <td>140359</td>\n",
              "      <td>264663</td>\n",
              "      <td>216864</td>\n",
              "      <td>150601</td>\n",
              "    </tr>\n",
              "    <tr>\n",
              "      <th>education</th>\n",
              "      <td>HS-grad</td>\n",
              "      <td>7th-8th</td>\n",
              "      <td>Some-college</td>\n",
              "      <td>HS-grad</td>\n",
              "      <td>10th</td>\n",
              "    </tr>\n",
              "    <tr>\n",
              "      <th>education-num</th>\n",
              "      <td>9</td>\n",
              "      <td>4</td>\n",
              "      <td>10</td>\n",
              "      <td>9</td>\n",
              "      <td>6</td>\n",
              "    </tr>\n",
              "    <tr>\n",
              "      <th>marital-status</th>\n",
              "      <td>Widowed</td>\n",
              "      <td>Divorced</td>\n",
              "      <td>Separated</td>\n",
              "      <td>Divorced</td>\n",
              "      <td>Separated</td>\n",
              "    </tr>\n",
              "    <tr>\n",
              "      <th>occupation</th>\n",
              "      <td>Exec-managerial</td>\n",
              "      <td>Machine-op-inspct</td>\n",
              "      <td>Prof-specialty</td>\n",
              "      <td>Other-service</td>\n",
              "      <td>Adm-clerical</td>\n",
              "    </tr>\n",
              "    <tr>\n",
              "      <th>relationship</th>\n",
              "      <td>Not-in-family</td>\n",
              "      <td>Unmarried</td>\n",
              "      <td>Own-child</td>\n",
              "      <td>Unmarried</td>\n",
              "      <td>Unmarried</td>\n",
              "    </tr>\n",
              "    <tr>\n",
              "      <th>race</th>\n",
              "      <td>White</td>\n",
              "      <td>White</td>\n",
              "      <td>White</td>\n",
              "      <td>White</td>\n",
              "      <td>White</td>\n",
              "    </tr>\n",
              "    <tr>\n",
              "      <th>sex</th>\n",
              "      <td>Female</td>\n",
              "      <td>Female</td>\n",
              "      <td>Female</td>\n",
              "      <td>Female</td>\n",
              "      <td>Male</td>\n",
              "    </tr>\n",
              "    <tr>\n",
              "      <th>capital-gain</th>\n",
              "      <td>0</td>\n",
              "      <td>0</td>\n",
              "      <td>0</td>\n",
              "      <td>0</td>\n",
              "      <td>0</td>\n",
              "    </tr>\n",
              "    <tr>\n",
              "      <th>capital-loss</th>\n",
              "      <td>4356</td>\n",
              "      <td>3900</td>\n",
              "      <td>3900</td>\n",
              "      <td>3770</td>\n",
              "      <td>3770</td>\n",
              "    </tr>\n",
              "    <tr>\n",
              "      <th>hours-per-week</th>\n",
              "      <td>18</td>\n",
              "      <td>40</td>\n",
              "      <td>40</td>\n",
              "      <td>45</td>\n",
              "      <td>40</td>\n",
              "    </tr>\n",
              "    <tr>\n",
              "      <th>native-country</th>\n",
              "      <td>United-States</td>\n",
              "      <td>United-States</td>\n",
              "      <td>United-States</td>\n",
              "      <td>United-States</td>\n",
              "      <td>United-States</td>\n",
              "    </tr>\n",
              "    <tr>\n",
              "      <th>income</th>\n",
              "      <td>&lt;=50K</td>\n",
              "      <td>&lt;=50K</td>\n",
              "      <td>&lt;=50K</td>\n",
              "      <td>&lt;=50K</td>\n",
              "      <td>&lt;=50K</td>\n",
              "    </tr>\n",
              "    <tr>\n",
              "      <th>binaryIncome</th>\n",
              "      <td>0</td>\n",
              "      <td>0</td>\n",
              "      <td>0</td>\n",
              "      <td>0</td>\n",
              "      <td>0</td>\n",
              "    </tr>\n",
              "  </tbody>\n",
              "</table>\n",
              "</div>"
            ],
            "text/plain": [
              "                              1                  3               4  \\\n",
              "age                          82                 54              41   \n",
              "workClass               Private            Private         Private   \n",
              "fnlwgt                   132870             140359          264663   \n",
              "education               HS-grad            7th-8th    Some-college   \n",
              "education-num                 9                  4              10   \n",
              "marital-status          Widowed           Divorced       Separated   \n",
              "occupation      Exec-managerial  Machine-op-inspct  Prof-specialty   \n",
              "relationship      Not-in-family          Unmarried       Own-child   \n",
              "race                      White              White           White   \n",
              "sex                      Female             Female          Female   \n",
              "capital-gain                  0                  0               0   \n",
              "capital-loss               4356               3900            3900   \n",
              "hours-per-week               18                 40              40   \n",
              "native-country    United-States      United-States   United-States   \n",
              "income                    <=50K              <=50K           <=50K   \n",
              "binaryIncome                  0                  0               0   \n",
              "\n",
              "                            5              6  \n",
              "age                        34             38  \n",
              "workClass             Private        Private  \n",
              "fnlwgt                 216864         150601  \n",
              "education             HS-grad           10th  \n",
              "education-num               9              6  \n",
              "marital-status       Divorced      Separated  \n",
              "occupation      Other-service   Adm-clerical  \n",
              "relationship        Unmarried      Unmarried  \n",
              "race                    White          White  \n",
              "sex                    Female           Male  \n",
              "capital-gain                0              0  \n",
              "capital-loss             3770           3770  \n",
              "hours-per-week             45             40  \n",
              "native-country  United-States  United-States  \n",
              "income                  <=50K          <=50K  \n",
              "binaryIncome                0              0  "
            ]
          },
          "metadata": {
            "tags": []
          },
          "execution_count": 9
        }
      ]
    },
    {
      "metadata": {
        "id": "1ALZW9Mhs0xt",
        "colab_type": "code",
        "outputId": "2c4a1a6b-7989-490e-ec52-db67e922c0c9",
        "colab": {
          "base_uri": "https://localhost:8080/",
          "height": 301
        }
      },
      "cell_type": "code",
      "source": [
        "data.dtypes"
      ],
      "execution_count": 0,
      "outputs": [
        {
          "output_type": "execute_result",
          "data": {
            "text/plain": [
              "age                int64\n",
              "workClass         object\n",
              "fnlwgt             int64\n",
              "education         object\n",
              "education-num      int64\n",
              "marital-status    object\n",
              "occupation        object\n",
              "relationship      object\n",
              "race              object\n",
              "sex               object\n",
              "capital-gain       int64\n",
              "capital-loss       int64\n",
              "hours-per-week     int64\n",
              "native-country    object\n",
              "income            object\n",
              "binaryIncome       int64\n",
              "dtype: object"
            ]
          },
          "metadata": {
            "tags": []
          },
          "execution_count": 10
        }
      ]
    },
    {
      "metadata": {
        "id": "z8867rvOyLo5",
        "colab_type": "code",
        "outputId": "4398abb6-a2c6-4bc2-c43b-a2bffc909e02",
        "colab": {
          "base_uri": "https://localhost:8080/",
          "height": 256
        }
      },
      "cell_type": "code",
      "source": [
        "numData = data.select_dtypes(include=['int'])\n",
        "numData.head().T"
      ],
      "execution_count": 0,
      "outputs": [
        {
          "output_type": "execute_result",
          "data": {
            "text/html": [
              "<div>\n",
              "<style scoped>\n",
              "    .dataframe tbody tr th:only-of-type {\n",
              "        vertical-align: middle;\n",
              "    }\n",
              "\n",
              "    .dataframe tbody tr th {\n",
              "        vertical-align: top;\n",
              "    }\n",
              "\n",
              "    .dataframe thead th {\n",
              "        text-align: right;\n",
              "    }\n",
              "</style>\n",
              "<table border=\"1\" class=\"dataframe\">\n",
              "  <thead>\n",
              "    <tr style=\"text-align: right;\">\n",
              "      <th></th>\n",
              "      <th>1</th>\n",
              "      <th>3</th>\n",
              "      <th>4</th>\n",
              "      <th>5</th>\n",
              "      <th>6</th>\n",
              "    </tr>\n",
              "  </thead>\n",
              "  <tbody>\n",
              "    <tr>\n",
              "      <th>age</th>\n",
              "      <td>82</td>\n",
              "      <td>54</td>\n",
              "      <td>41</td>\n",
              "      <td>34</td>\n",
              "      <td>38</td>\n",
              "    </tr>\n",
              "    <tr>\n",
              "      <th>fnlwgt</th>\n",
              "      <td>132870</td>\n",
              "      <td>140359</td>\n",
              "      <td>264663</td>\n",
              "      <td>216864</td>\n",
              "      <td>150601</td>\n",
              "    </tr>\n",
              "    <tr>\n",
              "      <th>education-num</th>\n",
              "      <td>9</td>\n",
              "      <td>4</td>\n",
              "      <td>10</td>\n",
              "      <td>9</td>\n",
              "      <td>6</td>\n",
              "    </tr>\n",
              "    <tr>\n",
              "      <th>capital-gain</th>\n",
              "      <td>0</td>\n",
              "      <td>0</td>\n",
              "      <td>0</td>\n",
              "      <td>0</td>\n",
              "      <td>0</td>\n",
              "    </tr>\n",
              "    <tr>\n",
              "      <th>capital-loss</th>\n",
              "      <td>4356</td>\n",
              "      <td>3900</td>\n",
              "      <td>3900</td>\n",
              "      <td>3770</td>\n",
              "      <td>3770</td>\n",
              "    </tr>\n",
              "    <tr>\n",
              "      <th>hours-per-week</th>\n",
              "      <td>18</td>\n",
              "      <td>40</td>\n",
              "      <td>40</td>\n",
              "      <td>45</td>\n",
              "      <td>40</td>\n",
              "    </tr>\n",
              "    <tr>\n",
              "      <th>binaryIncome</th>\n",
              "      <td>0</td>\n",
              "      <td>0</td>\n",
              "      <td>0</td>\n",
              "      <td>0</td>\n",
              "      <td>0</td>\n",
              "    </tr>\n",
              "  </tbody>\n",
              "</table>\n",
              "</div>"
            ],
            "text/plain": [
              "                     1       3       4       5       6\n",
              "age                 82      54      41      34      38\n",
              "fnlwgt          132870  140359  264663  216864  150601\n",
              "education-num        9       4      10       9       6\n",
              "capital-gain         0       0       0       0       0\n",
              "capital-loss      4356    3900    3900    3770    3770\n",
              "hours-per-week      18      40      40      45      40\n",
              "binaryIncome         0       0       0       0       0"
            ]
          },
          "metadata": {
            "tags": []
          },
          "execution_count": 11
        }
      ]
    },
    {
      "metadata": {
        "id": "upmQ2nJIycyE",
        "colab_type": "code",
        "outputId": "e86bb4a4-f266-4e0f-a0d6-971d8acb6b2b",
        "colab": {
          "base_uri": "https://localhost:8080/",
          "height": 1045
        }
      },
      "cell_type": "code",
      "source": [
        "numData.hist(figsize=(15,15))"
      ],
      "execution_count": 0,
      "outputs": [
        {
          "output_type": "execute_result",
          "data": {
            "text/plain": [
              "array([[<matplotlib.axes._subplots.AxesSubplot object at 0x7f5cd501a6a0>,\n",
              "        <matplotlib.axes._subplots.AxesSubplot object at 0x7f5cd4ffc4e0>,\n",
              "        <matplotlib.axes._subplots.AxesSubplot object at 0x7f5cd4fa3e48>],\n",
              "       [<matplotlib.axes._subplots.AxesSubplot object at 0x7f5cd4fce7f0>,\n",
              "        <matplotlib.axes._subplots.AxesSubplot object at 0x7f5cd4f7d198>,\n",
              "        <matplotlib.axes._subplots.AxesSubplot object at 0x7f5cd4f21b00>],\n",
              "       [<matplotlib.axes._subplots.AxesSubplot object at 0x7f5cd4ed24a8>,\n",
              "        <matplotlib.axes._subplots.AxesSubplot object at 0x7f5cd4ef6e48>,\n",
              "        <matplotlib.axes._subplots.AxesSubplot object at 0x7f5cd4ef6e80>]],\n",
              "      dtype=object)"
            ]
          },
          "metadata": {
            "tags": []
          },
          "execution_count": 12
        },
        {
          "output_type": "display_data",
          "data": {
            "image/png": "[encoded data removed]",
            "text/plain": [
              "<Figure size 1080x1080 with 9 Axes>"
            ]
          },
          "metadata": {
            "tags": []
          }
        }
      ]
    },
    {
      "metadata": {
        "id": "VgYhqsc49wHs",
        "colab_type": "code",
        "outputId": "73028583-2e52-4c66-d748-43990f348362",
        "colab": {
          "base_uri": "https://localhost:8080/",
          "height": 342
        }
      },
      "cell_type": "code",
      "source": [
        "sns.heatmap(numData.corr(),annot=True, fmt = \".2f\", cmap = \"coolwarm\")\n"
      ],
      "execution_count": 0,
      "outputs": [
        {
          "output_type": "execute_result",
          "data": {
            "text/plain": [
              "<matplotlib.axes._subplots.AxesSubplot at 0x7f5cd29e0588>"
            ]
          },
          "metadata": {
            "tags": []
          },
          "execution_count": 13
        },
        {
          "output_type": "display_data",
          "data": {
            "image/png": "[encoded data removed]",
            "text/plain": [
              "<Figure size 432x288 with 2 Axes>"
            ]
          },
          "metadata": {
            "tags": []
          }
        }
      ]
    },
    {
      "metadata": {
        "id": "8s4GAkFwJwWy",
        "colab_type": "code",
        "outputId": "2aad8049-39ee-4836-8102-3c983b3f48a4",
        "colab": {
          "base_uri": "https://localhost:8080/",
          "height": 655
        }
      },
      "cell_type": "code",
      "source": [
        "sns.factorplot(x=\"education-num\",y=\"binaryIncome\",data=data,kind=\"bar\",size =8)"
      ],
      "execution_count": 0,
      "outputs": [
        {
          "output_type": "stream",
          "text": [
            "/usr/local/lib/python3.6/dist-packages/seaborn/categorical.py:1428: FutureWarning: remove_na is deprecated and is a private function. Do not use.\n",
            "  stat_data = remove_na(group_data)\n"
          ],
          "name": "stderr"
        },
        {
          "output_type": "execute_result",
          "data": {
            "text/plain": [
              "<seaborn.axisgrid.FacetGrid at 0x7f5cd2c9dfd0>"
            ]
          },
          "metadata": {
            "tags": []
          },
          "execution_count": 14
        },
        {
          "output_type": "display_data",
          "data": {
            "image/png": "[encoded data removed]",
            "text/plain": [
              "<Figure size 576x576 with 1 Axes>"
            ]
          },
          "metadata": {
            "tags": []
          }
        }
      ]
    },
    {
      "metadata": {
        "id": "tcsd7IVaY05D",
        "colab_type": "code",
        "outputId": "6ba749ed-6373-417a-db4f-a4a5d2eb7735",
        "colab": {
          "base_uri": "https://localhost:8080/",
          "height": 799
        }
      },
      "cell_type": "code",
      "source": [
        "sns.factorplot(x=\"hours-per-week\",y=\"binaryIncome\",data=data,kind=\"bar\",size = 10)"
      ],
      "execution_count": 0,
      "outputs": [
        {
          "output_type": "stream",
          "text": [
            "/usr/local/lib/python3.6/dist-packages/seaborn/categorical.py:1428: FutureWarning: remove_na is deprecated and is a private function. Do not use.\n",
            "  stat_data = remove_na(group_data)\n"
          ],
          "name": "stderr"
        },
        {
          "output_type": "execute_result",
          "data": {
            "text/plain": [
              "<seaborn.axisgrid.FacetGrid at 0x7f5cd4e862b0>"
            ]
          },
          "metadata": {
            "tags": []
          },
          "execution_count": 15
        },
        {
          "output_type": "display_data",
          "data": {
            "image/png": "[encoded data removed]",
            "text/plain": [
              "<Figure size 720x720 with 1 Axes>"
            ]
          },
          "metadata": {
            "tags": []
          }
        }
      ]
    },
    {
      "metadata": {
        "id": "QC9HYs3PZQmD",
        "colab_type": "code",
        "outputId": "4a13cc9c-bad6-4886-e0ab-828080f20905",
        "colab": {
          "base_uri": "https://localhost:8080/",
          "height": 436
        }
      },
      "cell_type": "code",
      "source": [
        "g = sns.FacetGrid(data, col='binaryIncome', size=5)\n",
        "g = g.map(sns.distplot, \"age\")\n",
        "sns.plt.show"
      ],
      "execution_count": 0,
      "outputs": [
        {
          "output_type": "stream",
          "text": [
            "/usr/local/lib/python3.6/dist-packages/matplotlib/axes/_axes.py:6521: MatplotlibDeprecationWarning: \n",
            "The 'normed' kwarg was deprecated in Matplotlib 2.1 and will be removed in 3.1. Use 'density' instead.\n",
            "  alternative=\"'density'\", removal=\"3.1\")\n"
          ],
          "name": "stderr"
        },
        {
          "output_type": "execute_result",
          "data": {
            "text/plain": [
              "<function matplotlib.pyplot.show>"
            ]
          },
          "metadata": {
            "tags": []
          },
          "execution_count": 16
        },
        {
          "output_type": "display_data",
          "data": {
            "image/png": "[encoded data removed]",
            "text/plain": [
              "<Figure size 720x360 with 2 Axes>"
            ]
          },
          "metadata": {
            "tags": []
          }
        }
      ]
    },
    {
      "metadata": {
        "id": "Y24bDsN-A-Z6",
        "colab_type": "text"
      },
      "cell_type": "markdown",
      "source": [
        "###Summary of numerical data analysis\n",
        "\n",
        "\n",
        "*   Values are on different scales, might need to normalize or standardize data (between -1, 1 or 0, 1? ) before training models\n",
        "*   Need to perform feature selection/engineering on data, little or no linear correlation between numerical datapoints in dataset\n",
        "*   Did not show all possible graphs as there were too many, only showed relevant ones\n",
        "*   There does appear to be a non-linear relationship between income level and age, education-num, hours-per-week\n",
        "*   More ppl with income <=50K than with >50k\n",
        "*   Tried to plot relationship between fnlwgt and binaryIncome, there seems to be a bug because KeyError was thrown out each time\n",
        " \n",
        " Note: fnlwgt describes demographic characteristics of the person, i.e, people with similar fnlwgt are more likely to be in the same demographic\n",
        "\n"
      ]
    },
    {
      "metadata": {
        "id": "_BcMx7qxakgt",
        "colab_type": "text"
      },
      "cell_type": "markdown",
      "source": [
        "##Categorical Data analysis"
      ]
    },
    {
      "metadata": {
        "id": "vmbwq8SucU2t",
        "colab_type": "text"
      },
      "cell_type": "markdown",
      "source": [
        "want to get the absolute values of income for each category, but also ratio between income values for each categories (number of ppl with income <=50K / total number of ppl)"
      ]
    },
    {
      "metadata": {
        "id": "5BefPykQA9xd",
        "colab_type": "code",
        "outputId": "86dd543e-9c32-4b24-b6c9-bd1705b24536",
        "colab": {
          "base_uri": "https://localhost:8080/",
          "height": 419
        }
      },
      "cell_type": "code",
      "source": [
        "catData =data.select_dtypes(include=['object'])\n",
        "catData.head().T"
      ],
      "execution_count": 0,
      "outputs": [
        {
          "output_type": "execute_result",
          "data": {
            "text/html": [
              "<div>\n",
              "<style scoped>\n",
              "    .dataframe tbody tr th:only-of-type {\n",
              "        vertical-align: middle;\n",
              "    }\n",
              "\n",
              "    .dataframe tbody tr th {\n",
              "        vertical-align: top;\n",
              "    }\n",
              "\n",
              "    .dataframe thead th {\n",
              "        text-align: right;\n",
              "    }\n",
              "</style>\n",
              "<table border=\"1\" class=\"dataframe\">\n",
              "  <thead>\n",
              "    <tr style=\"text-align: right;\">\n",
              "      <th></th>\n",
              "      <th>1</th>\n",
              "      <th>3</th>\n",
              "      <th>4</th>\n",
              "      <th>5</th>\n",
              "      <th>6</th>\n",
              "    </tr>\n",
              "  </thead>\n",
              "  <tbody>\n",
              "    <tr>\n",
              "      <th>workClass</th>\n",
              "      <td>Private</td>\n",
              "      <td>Private</td>\n",
              "      <td>Private</td>\n",
              "      <td>Private</td>\n",
              "      <td>Private</td>\n",
              "    </tr>\n",
              "    <tr>\n",
              "      <th>education</th>\n",
              "      <td>HS-grad</td>\n",
              "      <td>7th-8th</td>\n",
              "      <td>Some-college</td>\n",
              "      <td>HS-grad</td>\n",
              "      <td>10th</td>\n",
              "    </tr>\n",
              "    <tr>\n",
              "      <th>marital-status</th>\n",
              "      <td>Widowed</td>\n",
              "      <td>Divorced</td>\n",
              "      <td>Separated</td>\n",
              "      <td>Divorced</td>\n",
              "      <td>Separated</td>\n",
              "    </tr>\n",
              "    <tr>\n",
              "      <th>occupation</th>\n",
              "      <td>Exec-managerial</td>\n",
              "      <td>Machine-op-inspct</td>\n",
              "      <td>Prof-specialty</td>\n",
              "      <td>Other-service</td>\n",
              "      <td>Adm-clerical</td>\n",
              "    </tr>\n",
              "    <tr>\n",
              "      <th>relationship</th>\n",
              "      <td>Not-in-family</td>\n",
              "      <td>Unmarried</td>\n",
              "      <td>Own-child</td>\n",
              "      <td>Unmarried</td>\n",
              "      <td>Unmarried</td>\n",
              "    </tr>\n",
              "    <tr>\n",
              "      <th>race</th>\n",
              "      <td>White</td>\n",
              "      <td>White</td>\n",
              "      <td>White</td>\n",
              "      <td>White</td>\n",
              "      <td>White</td>\n",
              "    </tr>\n",
              "    <tr>\n",
              "      <th>sex</th>\n",
              "      <td>Female</td>\n",
              "      <td>Female</td>\n",
              "      <td>Female</td>\n",
              "      <td>Female</td>\n",
              "      <td>Male</td>\n",
              "    </tr>\n",
              "    <tr>\n",
              "      <th>native-country</th>\n",
              "      <td>United-States</td>\n",
              "      <td>United-States</td>\n",
              "      <td>United-States</td>\n",
              "      <td>United-States</td>\n",
              "      <td>United-States</td>\n",
              "    </tr>\n",
              "    <tr>\n",
              "      <th>income</th>\n",
              "      <td>&lt;=50K</td>\n",
              "      <td>&lt;=50K</td>\n",
              "      <td>&lt;=50K</td>\n",
              "      <td>&lt;=50K</td>\n",
              "      <td>&lt;=50K</td>\n",
              "    </tr>\n",
              "  </tbody>\n",
              "</table>\n",
              "</div>"
            ],
            "text/plain": [
              "                              1                  3               4  \\\n",
              "workClass               Private            Private         Private   \n",
              "education               HS-grad            7th-8th    Some-college   \n",
              "marital-status          Widowed           Divorced       Separated   \n",
              "occupation      Exec-managerial  Machine-op-inspct  Prof-specialty   \n",
              "relationship      Not-in-family          Unmarried       Own-child   \n",
              "race                      White              White           White   \n",
              "sex                      Female             Female          Female   \n",
              "native-country    United-States      United-States   United-States   \n",
              "income                    <=50K              <=50K           <=50K   \n",
              "\n",
              "                            5              6  \n",
              "workClass             Private        Private  \n",
              "education             HS-grad           10th  \n",
              "marital-status       Divorced      Separated  \n",
              "occupation      Other-service   Adm-clerical  \n",
              "relationship        Unmarried      Unmarried  \n",
              "race                    White          White  \n",
              "sex                    Female           Male  \n",
              "native-country  United-States  United-States  \n",
              "income                  <=50K          <=50K  "
            ]
          },
          "metadata": {
            "tags": []
          },
          "execution_count": 17
        }
      ]
    },
    {
      "metadata": {
        "id": "177whWVya5ij",
        "colab_type": "code",
        "outputId": "69d2cb45-00d1-4ca8-eb81-8c8dd298591f",
        "colab": {
          "base_uri": "https://localhost:8080/",
          "height": 349
        }
      },
      "cell_type": "code",
      "source": [
        "sns.countplot(y='workClass', hue='income', data = catData)\n"
      ],
      "execution_count": 0,
      "outputs": [
        {
          "output_type": "stream",
          "text": [
            "/usr/local/lib/python3.6/dist-packages/seaborn/categorical.py:1468: FutureWarning: remove_na is deprecated and is a private function. Do not use.\n",
            "  stat_data = remove_na(group_data[hue_mask])\n"
          ],
          "name": "stderr"
        },
        {
          "output_type": "execute_result",
          "data": {
            "text/plain": [
              "<matplotlib.axes._subplots.AxesSubplot at 0x7f5cd1d51ba8>"
            ]
          },
          "metadata": {
            "tags": []
          },
          "execution_count": 18
        },
        {
          "output_type": "display_data",
          "data": {
            "image/png": "[encoded data removed]",
            "text/plain": [
              "<Figure size 432x288 with 1 Axes>"
            ]
          },
          "metadata": {
            "tags": []
          }
        }
      ]
    },
    {
      "metadata": {
        "id": "jorB9EeecqIs",
        "colab_type": "code",
        "outputId": "5f69677c-6456-4ded-cb43-086a2bbdc68e",
        "colab": {
          "base_uri": "https://localhost:8080/",
          "height": 689
        }
      },
      "cell_type": "code",
      "source": [
        "df = pd.DataFrame()\n",
        "df = catData.loc[catData['income']=='<=50K'].groupby(['workClass']).size()\n",
        "\n",
        "df1=catData.groupby(['workClass']).size()\n",
        "df2 = df/df1\n",
        "ax = df2.plot(kind='bar', figsize=(10, 10))\n",
        "ax = ax.set_ylabel('income ratio')"
      ],
      "execution_count": 0,
      "outputs": [
        {
          "output_type": "display_data",
          "data": {
            "image/png": "[encoded data removed]",
            "text/plain": [
              "<Figure size 720x720 with 1 Axes>"
            ]
          },
          "metadata": {
            "tags": []
          }
        }
      ]
    },
    {
      "metadata": {
        "id": "V_N8Cn1ScD7G",
        "colab_type": "code",
        "outputId": "d07f1935-1b7b-4452-cc5f-8288d5e6991d",
        "colab": {
          "base_uri": "https://localhost:8080/",
          "height": 349
        }
      },
      "cell_type": "code",
      "source": [
        "sns.countplot(y='occupation', hue='income', data = catData)"
      ],
      "execution_count": 0,
      "outputs": [
        {
          "output_type": "stream",
          "text": [
            "/usr/local/lib/python3.6/dist-packages/seaborn/categorical.py:1468: FutureWarning: remove_na is deprecated and is a private function. Do not use.\n",
            "  stat_data = remove_na(group_data[hue_mask])\n"
          ],
          "name": "stderr"
        },
        {
          "output_type": "execute_result",
          "data": {
            "text/plain": [
              "<matplotlib.axes._subplots.AxesSubplot at 0x7f5cd1a370b8>"
            ]
          },
          "metadata": {
            "tags": []
          },
          "execution_count": 20
        },
        {
          "output_type": "display_data",
          "data": {
            "image/png": "[encoded data removed]",
            "text/plain": [
              "<Figure size 432x288 with 1 Axes>"
            ]
          },
          "metadata": {
            "tags": []
          }
        }
      ]
    },
    {
      "metadata": {
        "id": "aEYzffq5gObf",
        "colab_type": "code",
        "outputId": "afaf5266-013b-4e96-f44f-84618a6847f7",
        "colab": {
          "base_uri": "https://localhost:8080/",
          "height": 697
        }
      },
      "cell_type": "code",
      "source": [
        "df = pd.DataFrame()\n",
        "df = catData.loc[catData['income']=='<=50K'].groupby(['occupation']).size()\n",
        "\n",
        "df1=catData.groupby(['occupation']).size()\n",
        "df2 = df/df1\n",
        "ax = df2.plot(kind='bar', figsize=(10, 10))\n",
        "ax = ax.set_ylabel('income ratio')"
      ],
      "execution_count": 0,
      "outputs": [
        {
          "output_type": "display_data",
          "data": {
            "image/png": "[encoded data removed]",
            "text/plain": [
              "<Figure size 720x720 with 1 Axes>"
            ]
          },
          "metadata": {
            "tags": []
          }
        }
      ]
    },
    {
      "metadata": {
        "id": "2GfMbD55cHU1",
        "colab_type": "code",
        "outputId": "c64541c1-aae0-47ee-c5ce-31d82acdb808",
        "colab": {
          "base_uri": "https://localhost:8080/",
          "height": 349
        }
      },
      "cell_type": "code",
      "source": [
        "sns.countplot(y='sex', hue='income', data = catData)"
      ],
      "execution_count": 0,
      "outputs": [
        {
          "output_type": "stream",
          "text": [
            "/usr/local/lib/python3.6/dist-packages/seaborn/categorical.py:1468: FutureWarning: remove_na is deprecated and is a private function. Do not use.\n",
            "  stat_data = remove_na(group_data[hue_mask])\n"
          ],
          "name": "stderr"
        },
        {
          "output_type": "execute_result",
          "data": {
            "text/plain": [
              "<matplotlib.axes._subplots.AxesSubplot at 0x7f5cd1a59860>"
            ]
          },
          "metadata": {
            "tags": []
          },
          "execution_count": 22
        },
        {
          "output_type": "display_data",
          "data": {
            "image/png": "[encoded data removed]",
            "text/plain": [
              "<Figure size 432x288 with 1 Axes>"
            ]
          },
          "metadata": {
            "tags": []
          }
        }
      ]
    },
    {
      "metadata": {
        "id": "vQevAyQdcKfE",
        "colab_type": "code",
        "outputId": "a8cf496a-384e-4bfe-a50f-e999e9996a92",
        "colab": {
          "base_uri": "https://localhost:8080/",
          "height": 649
        }
      },
      "cell_type": "code",
      "source": [
        "df = pd.DataFrame()\n",
        "df = catData.loc[catData['income']=='<=50K'].groupby(['sex']).size()\n",
        "\n",
        "df1=catData.groupby(['sex']).size()\n",
        "df2 = df/df1\n",
        "ax = df2.plot(kind='bar', figsize=(10, 10))\n",
        "ax = ax.set_ylabel('income ratio')"
      ],
      "execution_count": 0,
      "outputs": [
        {
          "output_type": "display_data",
          "data": {
            "image/png": "[encoded data removed]",
            "text/plain": [
              "<Figure size 720x720 with 1 Axes>"
            ]
          },
          "metadata": {
            "tags": []
          }
        }
      ]
    },
    {
      "metadata": {
        "id": "ymvrOOpYg7Em",
        "colab_type": "text"
      },
      "cell_type": "markdown",
      "source": [
        "###Summary of categorical data analysis\n",
        "\n",
        "\n",
        "*   There is appearence of trends between categories and income levels\n",
        "*   List item\n",
        "\n",
        "\n"
      ]
    },
    {
      "metadata": {
        "id": "eS3pWdpQjhxv",
        "colab_type": "text"
      },
      "cell_type": "markdown",
      "source": [
        "#Prepare data for fitting\n",
        "First need to standardize/normalize all numerical data, will use standard scaller from sklearn. Normalizes data(fits to normal curve) with mean U and standard deviation S calculated from dataset"
      ]
    },
    {
      "metadata": {
        "id": "5QJlsUHHjpIp",
        "colab_type": "code",
        "outputId": "d033df22-2f68-476e-957b-9f3aa8f2c506",
        "colab": {
          "base_uri": "https://localhost:8080/",
          "height": 104
        }
      },
      "cell_type": "code",
      "source": [
        "scaler = StandardScaler()\n",
        "\n",
        "sData = pd.DataFrame()\n",
        "df= pd.DataFrame()\n",
        "df1= pd.DataFrame()\n",
        "df1 =numData.reset_index(drop=True)\n",
        "df =numData.drop('binaryIncome', axis=1)\n",
        "sData=sData.reset_index()\n",
        "df=df.reset_index(drop=True)\n",
        "sData = scaler.fit_transform(df)\n",
        "columns = [\"age\", \"fnlwgt\",  \"education-num\",\n",
        "          \"capital-gain\", \"capital-loss\", \"hours-per-week\"]\n",
        "sData = pd.DataFrame(sData, columns=columns)\n",
        "\n",
        "\n",
        "sData['binaryIncome'] = df1.binaryIncome\n"
      ],
      "execution_count": 0,
      "outputs": [
        {
          "output_type": "stream",
          "text": [
            "/usr/local/lib/python3.6/dist-packages/sklearn/preprocessing/data.py:645: DataConversionWarning: Data with input dtype int64 were all converted to float64 by StandardScaler.\n",
            "  return self.partial_fit(X, y)\n",
            "/usr/local/lib/python3.6/dist-packages/sklearn/base.py:464: DataConversionWarning: Data with input dtype int64 were all converted to float64 by StandardScaler.\n",
            "  return self.fit(X, **fit_params).transform(X)\n"
          ],
          "name": "stderr"
        }
      ]
    },
    {
      "metadata": {
        "id": "mvn7KRQi1r2t",
        "colab_type": "code",
        "outputId": "025985e0-b78b-4d0a-9018-15a1f1302e2c",
        "colab": {
          "base_uri": "https://localhost:8080/",
          "height": 452
        }
      },
      "cell_type": "code",
      "source": [
        "numData.tail(), sData.tail()"
      ],
      "execution_count": 0,
      "outputs": [
        {
          "output_type": "execute_result",
          "data": {
            "text/plain": [
              "(       age  fnlwgt  education-num  capital-gain  capital-loss  hours-per-week  \\\n",
              " 32556   22  310152             10             0             0              40   \n",
              " 32557   27  257302             12             0             0              38   \n",
              " 32558   40  154374              9             0             0              40   \n",
              " 32559   58  151910              9             0             0              40   \n",
              " 32560   22  201490              9             0             0              20   \n",
              " \n",
              "        binaryIncome  \n",
              " 32556             0  \n",
              " 32557             0  \n",
              " 32558             1  \n",
              " 32559             0  \n",
              " 32560             0  ,\n",
              "             age    fnlwgt  education-num  capital-gain  capital-loss  \\\n",
              " 30157 -1.251511  1.139203      -0.047574     -0.147445     -0.218586   \n",
              " 30158 -0.870832  0.638972       0.736754     -0.147445     -0.218586   \n",
              " 30159  0.118931 -0.335252      -0.439738     -0.147445     -0.218586   \n",
              " 30160  1.489374 -0.358575      -0.439738     -0.147445     -0.218586   \n",
              " 30161 -1.251511  0.110705      -0.439738     -0.147445     -0.218586   \n",
              " \n",
              "        hours-per-week  binaryIncome  \n",
              " 30157       -0.077734             0  \n",
              " 30158       -0.244682             0  \n",
              " 30159       -0.077734             1  \n",
              " 30160       -0.077734             0  \n",
              " 30161       -1.747213             0  )"
            ]
          },
          "metadata": {
            "tags": []
          },
          "execution_count": 25
        }
      ]
    },
    {
      "metadata": {
        "id": "O5R3GWEVrffk",
        "colab_type": "text"
      },
      "cell_type": "markdown",
      "source": [
        "models are to only take in numerical data, need to transform cat data to num data by transforming it into dummy variables"
      ]
    },
    {
      "metadata": {
        "id": "Y82cwBXornjk",
        "colab_type": "code",
        "outputId": "abca654c-bf3d-4a67-e985-ffbf57830ff4",
        "colab": {
          "base_uri": "https://localhost:8080/",
          "height": 1221
        }
      },
      "cell_type": "code",
      "source": [
        "catData = catData.drop('income', axis=1)\n",
        "dData = pd.DataFrame()\n",
        "dData = pd.get_dummies(catData.reset_index(drop=True), drop_first=True)\n",
        "catData.head(1).T, dData.head(1).T"
      ],
      "execution_count": 0,
      "outputs": [
        {
          "output_type": "execute_result",
          "data": {
            "text/plain": [
              "(                              1\n",
              " workClass               Private\n",
              " education               HS-grad\n",
              " marital-status          Widowed\n",
              " occupation      Exec-managerial\n",
              " relationship      Not-in-family\n",
              " race                      White\n",
              " sex                      Female\n",
              " native-country    United-States,                                            0\n",
              " workClass_Local-gov                        0\n",
              " workClass_Private                          1\n",
              " workClass_Self-emp-inc                     0\n",
              " workClass_Self-emp-not-inc                 0\n",
              " workClass_State-gov                        0\n",
              " workClass_Without-pay                      0\n",
              " education_11th                             0\n",
              " education_12th                             0\n",
              " education_1st-4th                          0\n",
              " education_5th-6th                          0\n",
              " education_7th-8th                          0\n",
              " education_9th                              0\n",
              " education_Assoc-acdm                       0\n",
              " education_Assoc-voc                        0\n",
              " education_Bachelors                        0\n",
              " education_Doctorate                        0\n",
              " education_HS-grad                          1\n",
              " education_Masters                          0\n",
              " education_Preschool                        0\n",
              " education_Prof-school                      0\n",
              " education_Some-college                     0\n",
              " marital-status_Married-AF-spouse           0\n",
              " marital-status_Married-civ-spouse          0\n",
              " marital-status_Married-spouse-absent       0\n",
              " marital-status_Never-married               0\n",
              " marital-status_Separated                   0\n",
              " marital-status_Widowed                     1\n",
              " occupation_Armed-Forces                    0\n",
              " occupation_Craft-repair                    0\n",
              " occupation_Exec-managerial                 1\n",
              " ...                                       ..\n",
              " native-country_Greece                      0\n",
              " native-country_Guatemala                   0\n",
              " native-country_Haiti                       0\n",
              " native-country_Holand-Netherlands          0\n",
              " native-country_Honduras                    0\n",
              " native-country_Hong                        0\n",
              " native-country_Hungary                     0\n",
              " native-country_India                       0\n",
              " native-country_Iran                        0\n",
              " native-country_Ireland                     0\n",
              " native-country_Italy                       0\n",
              " native-country_Jamaica                     0\n",
              " native-country_Japan                       0\n",
              " native-country_Laos                        0\n",
              " native-country_Mexico                      0\n",
              " native-country_Nicaragua                   0\n",
              " native-country_Outlying-US(Guam-USVI-etc)  0\n",
              " native-country_Peru                        0\n",
              " native-country_Philippines                 0\n",
              " native-country_Poland                      0\n",
              " native-country_Portugal                    0\n",
              " native-country_Puerto-Rico                 0\n",
              " native-country_Scotland                    0\n",
              " native-country_South                       0\n",
              " native-country_Taiwan                      0\n",
              " native-country_Thailand                    0\n",
              " native-country_Trinadad&Tobago             0\n",
              " native-country_United-States               1\n",
              " native-country_Vietnam                     0\n",
              " native-country_Yugoslavia                  0\n",
              " \n",
              " [90 rows x 1 columns])"
            ]
          },
          "metadata": {
            "tags": []
          },
          "execution_count": 26
        }
      ]
    },
    {
      "metadata": {
        "id": "VFPD9X7srm8p",
        "colab_type": "text"
      },
      "cell_type": "markdown",
      "source": [
        "merge the 2 datasets into final dataset"
      ]
    },
    {
      "metadata": {
        "id": "hqohA4dwuKgu",
        "colab_type": "code",
        "colab": {}
      },
      "cell_type": "code",
      "source": [
        "fData = pd.DataFrame()\n",
        "fData = pd.concat([sData.reset_index(drop=True), dData.reset_index(drop=True)], axis=1)\n"
      ],
      "execution_count": 0,
      "outputs": []
    },
    {
      "metadata": {
        "id": "0BLqW_Ei4kX1",
        "colab_type": "code",
        "outputId": "86e0c0fa-02d8-4681-c9af-b8dd2bfb20ec",
        "colab": {
          "base_uri": "https://localhost:8080/",
          "height": 1895
        }
      },
      "cell_type": "code",
      "source": [
        "fData.head().T"
      ],
      "execution_count": 0,
      "outputs": [
        {
          "output_type": "execute_result",
          "data": {
            "text/html": [
              "<div>\n",
              "<style scoped>\n",
              "    .dataframe tbody tr th:only-of-type {\n",
              "        vertical-align: middle;\n",
              "    }\n",
              "\n",
              "    .dataframe tbody tr th {\n",
              "        vertical-align: top;\n",
              "    }\n",
              "\n",
              "    .dataframe thead th {\n",
              "        text-align: right;\n",
              "    }\n",
              "</style>\n",
              "<table border=\"1\" class=\"dataframe\">\n",
              "  <thead>\n",
              "    <tr style=\"text-align: right;\">\n",
              "      <th></th>\n",
              "      <th>0</th>\n",
              "      <th>1</th>\n",
              "      <th>2</th>\n",
              "      <th>3</th>\n",
              "      <th>4</th>\n",
              "    </tr>\n",
              "  </thead>\n",
              "  <tbody>\n",
              "    <tr>\n",
              "      <th>age</th>\n",
              "      <td>3.316630</td>\n",
              "      <td>1.184831</td>\n",
              "      <td>0.195067</td>\n",
              "      <td>-0.337883</td>\n",
              "      <td>-0.033340</td>\n",
              "    </tr>\n",
              "    <tr>\n",
              "      <th>fnlwgt</th>\n",
              "      <td>-0.538790</td>\n",
              "      <td>-0.467906</td>\n",
              "      <td>0.708645</td>\n",
              "      <td>0.256222</td>\n",
              "      <td>-0.370964</td>\n",
              "    </tr>\n",
              "    <tr>\n",
              "      <th>education-num</th>\n",
              "      <td>-0.439738</td>\n",
              "      <td>-2.400559</td>\n",
              "      <td>-0.047574</td>\n",
              "      <td>-0.439738</td>\n",
              "      <td>-1.616231</td>\n",
              "    </tr>\n",
              "    <tr>\n",
              "      <th>capital-gain</th>\n",
              "      <td>-0.147445</td>\n",
              "      <td>-0.147445</td>\n",
              "      <td>-0.147445</td>\n",
              "      <td>-0.147445</td>\n",
              "      <td>-0.147445</td>\n",
              "    </tr>\n",
              "    <tr>\n",
              "      <th>capital-loss</th>\n",
              "      <td>10.555814</td>\n",
              "      <td>9.427915</td>\n",
              "      <td>9.427915</td>\n",
              "      <td>9.106365</td>\n",
              "      <td>9.106365</td>\n",
              "    </tr>\n",
              "    <tr>\n",
              "      <th>hours-per-week</th>\n",
              "      <td>-1.914161</td>\n",
              "      <td>-0.077734</td>\n",
              "      <td>-0.077734</td>\n",
              "      <td>0.339636</td>\n",
              "      <td>-0.077734</td>\n",
              "    </tr>\n",
              "    <tr>\n",
              "      <th>binaryIncome</th>\n",
              "      <td>0.000000</td>\n",
              "      <td>0.000000</td>\n",
              "      <td>0.000000</td>\n",
              "      <td>0.000000</td>\n",
              "      <td>0.000000</td>\n",
              "    </tr>\n",
              "    <tr>\n",
              "      <th>workClass_Local-gov</th>\n",
              "      <td>0.000000</td>\n",
              "      <td>0.000000</td>\n",
              "      <td>0.000000</td>\n",
              "      <td>0.000000</td>\n",
              "      <td>0.000000</td>\n",
              "    </tr>\n",
              "    <tr>\n",
              "      <th>workClass_Private</th>\n",
              "      <td>1.000000</td>\n",
              "      <td>1.000000</td>\n",
              "      <td>1.000000</td>\n",
              "      <td>1.000000</td>\n",
              "      <td>1.000000</td>\n",
              "    </tr>\n",
              "    <tr>\n",
              "      <th>workClass_Self-emp-inc</th>\n",
              "      <td>0.000000</td>\n",
              "      <td>0.000000</td>\n",
              "      <td>0.000000</td>\n",
              "      <td>0.000000</td>\n",
              "      <td>0.000000</td>\n",
              "    </tr>\n",
              "    <tr>\n",
              "      <th>workClass_Self-emp-not-inc</th>\n",
              "      <td>0.000000</td>\n",
              "      <td>0.000000</td>\n",
              "      <td>0.000000</td>\n",
              "      <td>0.000000</td>\n",
              "      <td>0.000000</td>\n",
              "    </tr>\n",
              "    <tr>\n",
              "      <th>workClass_State-gov</th>\n",
              "      <td>0.000000</td>\n",
              "      <td>0.000000</td>\n",
              "      <td>0.000000</td>\n",
              "      <td>0.000000</td>\n",
              "      <td>0.000000</td>\n",
              "    </tr>\n",
              "    <tr>\n",
              "      <th>workClass_Without-pay</th>\n",
              "      <td>0.000000</td>\n",
              "      <td>0.000000</td>\n",
              "      <td>0.000000</td>\n",
              "      <td>0.000000</td>\n",
              "      <td>0.000000</td>\n",
              "    </tr>\n",
              "    <tr>\n",
              "      <th>education_11th</th>\n",
              "      <td>0.000000</td>\n",
              "      <td>0.000000</td>\n",
              "      <td>0.000000</td>\n",
              "      <td>0.000000</td>\n",
              "      <td>0.000000</td>\n",
              "    </tr>\n",
              "    <tr>\n",
              "      <th>education_12th</th>\n",
              "      <td>0.000000</td>\n",
              "      <td>0.000000</td>\n",
              "      <td>0.000000</td>\n",
              "      <td>0.000000</td>\n",
              "      <td>0.000000</td>\n",
              "    </tr>\n",
              "    <tr>\n",
              "      <th>education_1st-4th</th>\n",
              "      <td>0.000000</td>\n",
              "      <td>0.000000</td>\n",
              "      <td>0.000000</td>\n",
              "      <td>0.000000</td>\n",
              "      <td>0.000000</td>\n",
              "    </tr>\n",
              "    <tr>\n",
              "      <th>education_5th-6th</th>\n",
              "      <td>0.000000</td>\n",
              "      <td>0.000000</td>\n",
              "      <td>0.000000</td>\n",
              "      <td>0.000000</td>\n",
              "      <td>0.000000</td>\n",
              "    </tr>\n",
              "    <tr>\n",
              "      <th>education_7th-8th</th>\n",
              "      <td>0.000000</td>\n",
              "      <td>1.000000</td>\n",
              "      <td>0.000000</td>\n",
              "      <td>0.000000</td>\n",
              "      <td>0.000000</td>\n",
              "    </tr>\n",
              "    <tr>\n",
              "      <th>education_9th</th>\n",
              "      <td>0.000000</td>\n",
              "      <td>0.000000</td>\n",
              "      <td>0.000000</td>\n",
              "      <td>0.000000</td>\n",
              "      <td>0.000000</td>\n",
              "    </tr>\n",
              "    <tr>\n",
              "      <th>education_Assoc-acdm</th>\n",
              "      <td>0.000000</td>\n",
              "      <td>0.000000</td>\n",
              "      <td>0.000000</td>\n",
              "      <td>0.000000</td>\n",
              "      <td>0.000000</td>\n",
              "    </tr>\n",
              "    <tr>\n",
              "      <th>education_Assoc-voc</th>\n",
              "      <td>0.000000</td>\n",
              "      <td>0.000000</td>\n",
              "      <td>0.000000</td>\n",
              "      <td>0.000000</td>\n",
              "      <td>0.000000</td>\n",
              "    </tr>\n",
              "    <tr>\n",
              "      <th>education_Bachelors</th>\n",
              "      <td>0.000000</td>\n",
              "      <td>0.000000</td>\n",
              "      <td>0.000000</td>\n",
              "      <td>0.000000</td>\n",
              "      <td>0.000000</td>\n",
              "    </tr>\n",
              "    <tr>\n",
              "      <th>education_Doctorate</th>\n",
              "      <td>0.000000</td>\n",
              "      <td>0.000000</td>\n",
              "      <td>0.000000</td>\n",
              "      <td>0.000000</td>\n",
              "      <td>0.000000</td>\n",
              "    </tr>\n",
              "    <tr>\n",
              "      <th>education_HS-grad</th>\n",
              "      <td>1.000000</td>\n",
              "      <td>0.000000</td>\n",
              "      <td>0.000000</td>\n",
              "      <td>1.000000</td>\n",
              "      <td>0.000000</td>\n",
              "    </tr>\n",
              "    <tr>\n",
              "      <th>education_Masters</th>\n",
              "      <td>0.000000</td>\n",
              "      <td>0.000000</td>\n",
              "      <td>0.000000</td>\n",
              "      <td>0.000000</td>\n",
              "      <td>0.000000</td>\n",
              "    </tr>\n",
              "    <tr>\n",
              "      <th>education_Preschool</th>\n",
              "      <td>0.000000</td>\n",
              "      <td>0.000000</td>\n",
              "      <td>0.000000</td>\n",
              "      <td>0.000000</td>\n",
              "      <td>0.000000</td>\n",
              "    </tr>\n",
              "    <tr>\n",
              "      <th>education_Prof-school</th>\n",
              "      <td>0.000000</td>\n",
              "      <td>0.000000</td>\n",
              "      <td>0.000000</td>\n",
              "      <td>0.000000</td>\n",
              "      <td>0.000000</td>\n",
              "    </tr>\n",
              "    <tr>\n",
              "      <th>education_Some-college</th>\n",
              "      <td>0.000000</td>\n",
              "      <td>0.000000</td>\n",
              "      <td>1.000000</td>\n",
              "      <td>0.000000</td>\n",
              "      <td>0.000000</td>\n",
              "    </tr>\n",
              "    <tr>\n",
              "      <th>marital-status_Married-AF-spouse</th>\n",
              "      <td>0.000000</td>\n",
              "      <td>0.000000</td>\n",
              "      <td>0.000000</td>\n",
              "      <td>0.000000</td>\n",
              "      <td>0.000000</td>\n",
              "    </tr>\n",
              "    <tr>\n",
              "      <th>marital-status_Married-civ-spouse</th>\n",
              "      <td>0.000000</td>\n",
              "      <td>0.000000</td>\n",
              "      <td>0.000000</td>\n",
              "      <td>0.000000</td>\n",
              "      <td>0.000000</td>\n",
              "    </tr>\n",
              "    <tr>\n",
              "      <th>...</th>\n",
              "      <td>...</td>\n",
              "      <td>...</td>\n",
              "      <td>...</td>\n",
              "      <td>...</td>\n",
              "      <td>...</td>\n",
              "    </tr>\n",
              "    <tr>\n",
              "      <th>native-country_Greece</th>\n",
              "      <td>0.000000</td>\n",
              "      <td>0.000000</td>\n",
              "      <td>0.000000</td>\n",
              "      <td>0.000000</td>\n",
              "      <td>0.000000</td>\n",
              "    </tr>\n",
              "    <tr>\n",
              "      <th>native-country_Guatemala</th>\n",
              "      <td>0.000000</td>\n",
              "      <td>0.000000</td>\n",
              "      <td>0.000000</td>\n",
              "      <td>0.000000</td>\n",
              "      <td>0.000000</td>\n",
              "    </tr>\n",
              "    <tr>\n",
              "      <th>native-country_Haiti</th>\n",
              "      <td>0.000000</td>\n",
              "      <td>0.000000</td>\n",
              "      <td>0.000000</td>\n",
              "      <td>0.000000</td>\n",
              "      <td>0.000000</td>\n",
              "    </tr>\n",
              "    <tr>\n",
              "      <th>native-country_Holand-Netherlands</th>\n",
              "      <td>0.000000</td>\n",
              "      <td>0.000000</td>\n",
              "      <td>0.000000</td>\n",
              "      <td>0.000000</td>\n",
              "      <td>0.000000</td>\n",
              "    </tr>\n",
              "    <tr>\n",
              "      <th>native-country_Honduras</th>\n",
              "      <td>0.000000</td>\n",
              "      <td>0.000000</td>\n",
              "      <td>0.000000</td>\n",
              "      <td>0.000000</td>\n",
              "      <td>0.000000</td>\n",
              "    </tr>\n",
              "    <tr>\n",
              "      <th>native-country_Hong</th>\n",
              "      <td>0.000000</td>\n",
              "      <td>0.000000</td>\n",
              "      <td>0.000000</td>\n",
              "      <td>0.000000</td>\n",
              "      <td>0.000000</td>\n",
              "    </tr>\n",
              "    <tr>\n",
              "      <th>native-country_Hungary</th>\n",
              "      <td>0.000000</td>\n",
              "      <td>0.000000</td>\n",
              "      <td>0.000000</td>\n",
              "      <td>0.000000</td>\n",
              "      <td>0.000000</td>\n",
              "    </tr>\n",
              "    <tr>\n",
              "      <th>native-country_India</th>\n",
              "      <td>0.000000</td>\n",
              "      <td>0.000000</td>\n",
              "      <td>0.000000</td>\n",
              "      <td>0.000000</td>\n",
              "      <td>0.000000</td>\n",
              "    </tr>\n",
              "    <tr>\n",
              "      <th>native-country_Iran</th>\n",
              "      <td>0.000000</td>\n",
              "      <td>0.000000</td>\n",
              "      <td>0.000000</td>\n",
              "      <td>0.000000</td>\n",
              "      <td>0.000000</td>\n",
              "    </tr>\n",
              "    <tr>\n",
              "      <th>native-country_Ireland</th>\n",
              "      <td>0.000000</td>\n",
              "      <td>0.000000</td>\n",
              "      <td>0.000000</td>\n",
              "      <td>0.000000</td>\n",
              "      <td>0.000000</td>\n",
              "    </tr>\n",
              "    <tr>\n",
              "      <th>native-country_Italy</th>\n",
              "      <td>0.000000</td>\n",
              "      <td>0.000000</td>\n",
              "      <td>0.000000</td>\n",
              "      <td>0.000000</td>\n",
              "      <td>0.000000</td>\n",
              "    </tr>\n",
              "    <tr>\n",
              "      <th>native-country_Jamaica</th>\n",
              "      <td>0.000000</td>\n",
              "      <td>0.000000</td>\n",
              "      <td>0.000000</td>\n",
              "      <td>0.000000</td>\n",
              "      <td>0.000000</td>\n",
              "    </tr>\n",
              "    <tr>\n",
              "      <th>native-country_Japan</th>\n",
              "      <td>0.000000</td>\n",
              "      <td>0.000000</td>\n",
              "      <td>0.000000</td>\n",
              "      <td>0.000000</td>\n",
              "      <td>0.000000</td>\n",
              "    </tr>\n",
              "    <tr>\n",
              "      <th>native-country_Laos</th>\n",
              "      <td>0.000000</td>\n",
              "      <td>0.000000</td>\n",
              "      <td>0.000000</td>\n",
              "      <td>0.000000</td>\n",
              "      <td>0.000000</td>\n",
              "    </tr>\n",
              "    <tr>\n",
              "      <th>native-country_Mexico</th>\n",
              "      <td>0.000000</td>\n",
              "      <td>0.000000</td>\n",
              "      <td>0.000000</td>\n",
              "      <td>0.000000</td>\n",
              "      <td>0.000000</td>\n",
              "    </tr>\n",
              "    <tr>\n",
              "      <th>native-country_Nicaragua</th>\n",
              "      <td>0.000000</td>\n",
              "      <td>0.000000</td>\n",
              "      <td>0.000000</td>\n",
              "      <td>0.000000</td>\n",
              "      <td>0.000000</td>\n",
              "    </tr>\n",
              "    <tr>\n",
              "      <th>native-country_Outlying-US(Guam-USVI-etc)</th>\n",
              "      <td>0.000000</td>\n",
              "      <td>0.000000</td>\n",
              "      <td>0.000000</td>\n",
              "      <td>0.000000</td>\n",
              "      <td>0.000000</td>\n",
              "    </tr>\n",
              "    <tr>\n",
              "      <th>native-country_Peru</th>\n",
              "      <td>0.000000</td>\n",
              "      <td>0.000000</td>\n",
              "      <td>0.000000</td>\n",
              "      <td>0.000000</td>\n",
              "      <td>0.000000</td>\n",
              "    </tr>\n",
              "    <tr>\n",
              "      <th>native-country_Philippines</th>\n",
              "      <td>0.000000</td>\n",
              "      <td>0.000000</td>\n",
              "      <td>0.000000</td>\n",
              "      <td>0.000000</td>\n",
              "      <td>0.000000</td>\n",
              "    </tr>\n",
              "    <tr>\n",
              "      <th>native-country_Poland</th>\n",
              "      <td>0.000000</td>\n",
              "      <td>0.000000</td>\n",
              "      <td>0.000000</td>\n",
              "      <td>0.000000</td>\n",
              "      <td>0.000000</td>\n",
              "    </tr>\n",
              "    <tr>\n",
              "      <th>native-country_Portugal</th>\n",
              "      <td>0.000000</td>\n",
              "      <td>0.000000</td>\n",
              "      <td>0.000000</td>\n",
              "      <td>0.000000</td>\n",
              "      <td>0.000000</td>\n",
              "    </tr>\n",
              "    <tr>\n",
              "      <th>native-country_Puerto-Rico</th>\n",
              "      <td>0.000000</td>\n",
              "      <td>0.000000</td>\n",
              "      <td>0.000000</td>\n",
              "      <td>0.000000</td>\n",
              "      <td>0.000000</td>\n",
              "    </tr>\n",
              "    <tr>\n",
              "      <th>native-country_Scotland</th>\n",
              "      <td>0.000000</td>\n",
              "      <td>0.000000</td>\n",
              "      <td>0.000000</td>\n",
              "      <td>0.000000</td>\n",
              "      <td>0.000000</td>\n",
              "    </tr>\n",
              "    <tr>\n",
              "      <th>native-country_South</th>\n",
              "      <td>0.000000</td>\n",
              "      <td>0.000000</td>\n",
              "      <td>0.000000</td>\n",
              "      <td>0.000000</td>\n",
              "      <td>0.000000</td>\n",
              "    </tr>\n",
              "    <tr>\n",
              "      <th>native-country_Taiwan</th>\n",
              "      <td>0.000000</td>\n",
              "      <td>0.000000</td>\n",
              "      <td>0.000000</td>\n",
              "      <td>0.000000</td>\n",
              "      <td>0.000000</td>\n",
              "    </tr>\n",
              "    <tr>\n",
              "      <th>native-country_Thailand</th>\n",
              "      <td>0.000000</td>\n",
              "      <td>0.000000</td>\n",
              "      <td>0.000000</td>\n",
              "      <td>0.000000</td>\n",
              "      <td>0.000000</td>\n",
              "    </tr>\n",
              "    <tr>\n",
              "      <th>native-country_Trinadad&amp;Tobago</th>\n",
              "      <td>0.000000</td>\n",
              "      <td>0.000000</td>\n",
              "      <td>0.000000</td>\n",
              "      <td>0.000000</td>\n",
              "      <td>0.000000</td>\n",
              "    </tr>\n",
              "    <tr>\n",
              "      <th>native-country_United-States</th>\n",
              "      <td>1.000000</td>\n",
              "      <td>1.000000</td>\n",
              "      <td>1.000000</td>\n",
              "      <td>1.000000</td>\n",
              "      <td>1.000000</td>\n",
              "    </tr>\n",
              "    <tr>\n",
              "      <th>native-country_Vietnam</th>\n",
              "      <td>0.000000</td>\n",
              "      <td>0.000000</td>\n",
              "      <td>0.000000</td>\n",
              "      <td>0.000000</td>\n",
              "      <td>0.000000</td>\n",
              "    </tr>\n",
              "    <tr>\n",
              "      <th>native-country_Yugoslavia</th>\n",
              "      <td>0.000000</td>\n",
              "      <td>0.000000</td>\n",
              "      <td>0.000000</td>\n",
              "      <td>0.000000</td>\n",
              "      <td>0.000000</td>\n",
              "    </tr>\n",
              "  </tbody>\n",
              "</table>\n",
              "<p>97 rows × 5 columns</p>\n",
              "</div>"
            ],
            "text/plain": [
              "                                                   0         1         2  \\\n",
              "age                                         3.316630  1.184831  0.195067   \n",
              "fnlwgt                                     -0.538790 -0.467906  0.708645   \n",
              "education-num                              -0.439738 -2.400559 -0.047574   \n",
              "capital-gain                               -0.147445 -0.147445 -0.147445   \n",
              "capital-loss                               10.555814  9.427915  9.427915   \n",
              "hours-per-week                             -1.914161 -0.077734 -0.077734   \n",
              "binaryIncome                                0.000000  0.000000  0.000000   \n",
              "workClass_Local-gov                         0.000000  0.000000  0.000000   \n",
              "workClass_Private                           1.000000  1.000000  1.000000   \n",
              "workClass_Self-emp-inc                      0.000000  0.000000  0.000000   \n",
              "workClass_Self-emp-not-inc                  0.000000  0.000000  0.000000   \n",
              "workClass_State-gov                         0.000000  0.000000  0.000000   \n",
              "workClass_Without-pay                       0.000000  0.000000  0.000000   \n",
              "education_11th                              0.000000  0.000000  0.000000   \n",
              "education_12th                              0.000000  0.000000  0.000000   \n",
              "education_1st-4th                           0.000000  0.000000  0.000000   \n",
              "education_5th-6th                           0.000000  0.000000  0.000000   \n",
              "education_7th-8th                           0.000000  1.000000  0.000000   \n",
              "education_9th                               0.000000  0.000000  0.000000   \n",
              "education_Assoc-acdm                        0.000000  0.000000  0.000000   \n",
              "education_Assoc-voc                         0.000000  0.000000  0.000000   \n",
              "education_Bachelors                         0.000000  0.000000  0.000000   \n",
              "education_Doctorate                         0.000000  0.000000  0.000000   \n",
              "education_HS-grad                           1.000000  0.000000  0.000000   \n",
              "education_Masters                           0.000000  0.000000  0.000000   \n",
              "education_Preschool                         0.000000  0.000000  0.000000   \n",
              "education_Prof-school                       0.000000  0.000000  0.000000   \n",
              "education_Some-college                      0.000000  0.000000  1.000000   \n",
              "marital-status_Married-AF-spouse            0.000000  0.000000  0.000000   \n",
              "marital-status_Married-civ-spouse           0.000000  0.000000  0.000000   \n",
              "...                                              ...       ...       ...   \n",
              "native-country_Greece                       0.000000  0.000000  0.000000   \n",
              "native-country_Guatemala                    0.000000  0.000000  0.000000   \n",
              "native-country_Haiti                        0.000000  0.000000  0.000000   \n",
              "native-country_Holand-Netherlands           0.000000  0.000000  0.000000   \n",
              "native-country_Honduras                     0.000000  0.000000  0.000000   \n",
              "native-country_Hong                         0.000000  0.000000  0.000000   \n",
              "native-country_Hungary                      0.000000  0.000000  0.000000   \n",
              "native-country_India                        0.000000  0.000000  0.000000   \n",
              "native-country_Iran                         0.000000  0.000000  0.000000   \n",
              "native-country_Ireland                      0.000000  0.000000  0.000000   \n",
              "native-country_Italy                        0.000000  0.000000  0.000000   \n",
              "native-country_Jamaica                      0.000000  0.000000  0.000000   \n",
              "native-country_Japan                        0.000000  0.000000  0.000000   \n",
              "native-country_Laos                         0.000000  0.000000  0.000000   \n",
              "native-country_Mexico                       0.000000  0.000000  0.000000   \n",
              "native-country_Nicaragua                    0.000000  0.000000  0.000000   \n",
              "native-country_Outlying-US(Guam-USVI-etc)   0.000000  0.000000  0.000000   \n",
              "native-country_Peru                         0.000000  0.000000  0.000000   \n",
              "native-country_Philippines                  0.000000  0.000000  0.000000   \n",
              "native-country_Poland                       0.000000  0.000000  0.000000   \n",
              "native-country_Portugal                     0.000000  0.000000  0.000000   \n",
              "native-country_Puerto-Rico                  0.000000  0.000000  0.000000   \n",
              "native-country_Scotland                     0.000000  0.000000  0.000000   \n",
              "native-country_South                        0.000000  0.000000  0.000000   \n",
              "native-country_Taiwan                       0.000000  0.000000  0.000000   \n",
              "native-country_Thailand                     0.000000  0.000000  0.000000   \n",
              "native-country_Trinadad&Tobago              0.000000  0.000000  0.000000   \n",
              "native-country_United-States                1.000000  1.000000  1.000000   \n",
              "native-country_Vietnam                      0.000000  0.000000  0.000000   \n",
              "native-country_Yugoslavia                   0.000000  0.000000  0.000000   \n",
              "\n",
              "                                                  3         4  \n",
              "age                                       -0.337883 -0.033340  \n",
              "fnlwgt                                     0.256222 -0.370964  \n",
              "education-num                             -0.439738 -1.616231  \n",
              "capital-gain                              -0.147445 -0.147445  \n",
              "capital-loss                               9.106365  9.106365  \n",
              "hours-per-week                             0.339636 -0.077734  \n",
              "binaryIncome                               0.000000  0.000000  \n",
              "workClass_Local-gov                        0.000000  0.000000  \n",
              "workClass_Private                          1.000000  1.000000  \n",
              "workClass_Self-emp-inc                     0.000000  0.000000  \n",
              "workClass_Self-emp-not-inc                 0.000000  0.000000  \n",
              "workClass_State-gov                        0.000000  0.000000  \n",
              "workClass_Without-pay                      0.000000  0.000000  \n",
              "education_11th                             0.000000  0.000000  \n",
              "education_12th                             0.000000  0.000000  \n",
              "education_1st-4th                          0.000000  0.000000  \n",
              "education_5th-6th                          0.000000  0.000000  \n",
              "education_7th-8th                          0.000000  0.000000  \n",
              "education_9th                              0.000000  0.000000  \n",
              "education_Assoc-acdm                       0.000000  0.000000  \n",
              "education_Assoc-voc                        0.000000  0.000000  \n",
              "education_Bachelors                        0.000000  0.000000  \n",
              "education_Doctorate                        0.000000  0.000000  \n",
              "education_HS-grad                          1.000000  0.000000  \n",
              "education_Masters                          0.000000  0.000000  \n",
              "education_Preschool                        0.000000  0.000000  \n",
              "education_Prof-school                      0.000000  0.000000  \n",
              "education_Some-college                     0.000000  0.000000  \n",
              "marital-status_Married-AF-spouse           0.000000  0.000000  \n",
              "marital-status_Married-civ-spouse          0.000000  0.000000  \n",
              "...                                             ...       ...  \n",
              "native-country_Greece                      0.000000  0.000000  \n",
              "native-country_Guatemala                   0.000000  0.000000  \n",
              "native-country_Haiti                       0.000000  0.000000  \n",
              "native-country_Holand-Netherlands          0.000000  0.000000  \n",
              "native-country_Honduras                    0.000000  0.000000  \n",
              "native-country_Hong                        0.000000  0.000000  \n",
              "native-country_Hungary                     0.000000  0.000000  \n",
              "native-country_India                       0.000000  0.000000  \n",
              "native-country_Iran                        0.000000  0.000000  \n",
              "native-country_Ireland                     0.000000  0.000000  \n",
              "native-country_Italy                       0.000000  0.000000  \n",
              "native-country_Jamaica                     0.000000  0.000000  \n",
              "native-country_Japan                       0.000000  0.000000  \n",
              "native-country_Laos                        0.000000  0.000000  \n",
              "native-country_Mexico                      0.000000  0.000000  \n",
              "native-country_Nicaragua                   0.000000  0.000000  \n",
              "native-country_Outlying-US(Guam-USVI-etc)  0.000000  0.000000  \n",
              "native-country_Peru                        0.000000  0.000000  \n",
              "native-country_Philippines                 0.000000  0.000000  \n",
              "native-country_Poland                      0.000000  0.000000  \n",
              "native-country_Portugal                    0.000000  0.000000  \n",
              "native-country_Puerto-Rico                 0.000000  0.000000  \n",
              "native-country_Scotland                    0.000000  0.000000  \n",
              "native-country_South                       0.000000  0.000000  \n",
              "native-country_Taiwan                      0.000000  0.000000  \n",
              "native-country_Thailand                    0.000000  0.000000  \n",
              "native-country_Trinadad&Tobago             0.000000  0.000000  \n",
              "native-country_United-States               1.000000  1.000000  \n",
              "native-country_Vietnam                     0.000000  0.000000  \n",
              "native-country_Yugoslavia                  0.000000  0.000000  \n",
              "\n",
              "[97 rows x 5 columns]"
            ]
          },
          "metadata": {
            "tags": []
          },
          "execution_count": 28
        }
      ]
    },
    {
      "metadata": {
        "id": "Ws8nAdGa8gZu",
        "colab_type": "text"
      },
      "cell_type": "markdown",
      "source": [
        "next step is to create a train and test dataset, and then seperate labels and feautes"
      ]
    },
    {
      "metadata": {
        "id": "66Ovtv5R82-_",
        "colab_type": "code",
        "colab": {}
      },
      "cell_type": "code",
      "source": [
        "\n",
        "fDataY = pd.DataFrame(fData['binaryIncome'])\n",
        "fDataX = pd.DataFrame(fData.drop('binaryIncome', axis=1))\n"
      ],
      "execution_count": 0,
      "outputs": []
    },
    {
      "metadata": {
        "id": "RDfxbAjgNg0J",
        "colab_type": "code",
        "colab": {}
      },
      "cell_type": "code",
      "source": [
        "X_train, X_test, y_train, y_test = train_test_split( fDataX, fDataY, test_size=0.2, random_state=42)"
      ],
      "execution_count": 0,
      "outputs": []
    },
    {
      "metadata": {
        "id": "tRmyfz61NoeE",
        "colab_type": "code",
        "outputId": "f2fd1de1-4a38-4455-9785-b9ea1e19dbfc",
        "colab": {
          "base_uri": "https://localhost:8080/",
          "height": 234
        }
      },
      "cell_type": "code",
      "source": [
        "y_train.info(), y_test.info()"
      ],
      "execution_count": 0,
      "outputs": [
        {
          "output_type": "stream",
          "text": [
            "<class 'pandas.core.frame.DataFrame'>\n",
            "Int64Index: 24129 entries, 18406 to 23654\n",
            "Data columns (total 1 columns):\n",
            "binaryIncome    24129 non-null int64\n",
            "dtypes: int64(1)\n",
            "memory usage: 377.0 KB\n",
            "<class 'pandas.core.frame.DataFrame'>\n",
            "Int64Index: 6033 entries, 217 to 5687\n",
            "Data columns (total 1 columns):\n",
            "binaryIncome    6033 non-null int64\n",
            "dtypes: int64(1)\n",
            "memory usage: 94.3 KB\n"
          ],
          "name": "stdout"
        },
        {
          "output_type": "execute_result",
          "data": {
            "text/plain": [
              "(None, None)"
            ]
          },
          "metadata": {
            "tags": []
          },
          "execution_count": 31
        }
      ]
    },
    {
      "metadata": {
        "id": "-TDIbnXRPHuq",
        "colab_type": "text"
      },
      "cell_type": "markdown",
      "source": [
        "#Fitting Data"
      ]
    },
    {
      "metadata": {
        "id": "vMw1KtHNOuhO",
        "colab_type": "text"
      },
      "cell_type": "markdown",
      "source": [
        "##Logistic Regression"
      ]
    },
    {
      "metadata": {
        "id": "a76C4CVcOhg0",
        "colab_type": "code",
        "outputId": "5aabbdf5-c05c-4974-d050-8fb0cde12a73",
        "colab": {
          "base_uri": "https://localhost:8080/",
          "height": 33
        }
      },
      "cell_type": "code",
      "source": [
        "lr = LogisticRegression()\n",
        "lr.fit(X_train, y_train)\n",
        "clear_output()\n",
        "lr_score=lr.score(X_test, y_test)\n",
        "lr_score"
      ],
      "execution_count": 0,
      "outputs": [
        {
          "output_type": "execute_result",
          "data": {
            "text/plain": [
              "0.8425327366152826"
            ]
          },
          "metadata": {
            "tags": []
          },
          "execution_count": 32
        }
      ]
    },
    {
      "metadata": {
        "id": "7kvRAds9PK5U",
        "colab_type": "text"
      },
      "cell_type": "markdown",
      "source": [
        "###Cross Validation"
      ]
    },
    {
      "metadata": {
        "id": "9r863mxvTdgq",
        "colab_type": "code",
        "outputId": "7939cda4-9d68-4c50-b102-ce8b22750624",
        "colab": {
          "base_uri": "https://localhost:8080/",
          "height": 33
        }
      },
      "cell_type": "code",
      "source": [
        "cross_val_model = LogisticRegression(random_state=0)\n",
        "cv_scores_lr = cross_val_score(cross_val_model, fDataX,  fDataY, cv=5, verbose=True)\n",
        "clear_output()\n",
        "print(np.mean(cv_scores_lr))"
      ],
      "execution_count": 0,
      "outputs": [
        {
          "output_type": "stream",
          "text": [
            "0.8280281816509658\n"
          ],
          "name": "stdout"
        }
      ]
    },
    {
      "metadata": {
        "id": "sdz_E8VdP2iZ",
        "colab_type": "text"
      },
      "cell_type": "markdown",
      "source": [
        "###Grid Search"
      ]
    },
    {
      "metadata": {
        "id": "kx0wclO_UxDq",
        "colab_type": "code",
        "outputId": "2baaeee7-060f-4ff0-a86a-ed9d02d84528",
        "colab": {
          "base_uri": "https://localhost:8080/",
          "height": 33
        }
      },
      "cell_type": "code",
      "source": [
        "#penalty = ['l1', 'l2']\n",
        "# C is the inverese of regularization parameter\n",
        "solver=['newton-cg', 'lbfgs', 'liblinear', 'sag', 'saga']\n",
        "C = np.logspace(0, 4, 10)\n",
        "\n",
        "\n",
        "params = dict(C=C, solver=solver)\n",
        "clf = GridSearchCV(estimator=lr, param_grid = params,cv=5, verbose=True)\n",
        "gs_lr = clf.fit(fDataX, fDataY)\n",
        "clear_output()\n",
        "gs_score_lr=gs_lr.score(X_test, y_test)\n",
        "gs_score_lr"
      ],
      "execution_count": 0,
      "outputs": [
        {
          "output_type": "execute_result",
          "data": {
            "text/plain": [
              "0.8431957566716393"
            ]
          },
          "metadata": {
            "tags": []
          },
          "execution_count": 34
        }
      ]
    },
    {
      "metadata": {
        "id": "o6yk_sGWrrg_",
        "colab_type": "code",
        "outputId": "70b15d0e-8ac8-4d26-bc8a-d75e01af0901",
        "colab": {
          "base_uri": "https://localhost:8080/",
          "height": 117
        }
      },
      "cell_type": "code",
      "source": [
        "print(\"Best estimator:\", gs_lr.best_estimator_) \n",
        "print(\"Best parameters:\", gs_lr.best_params_)\n",
        "print(\"Best score:\", gs_lr.best_score_)"
      ],
      "execution_count": 0,
      "outputs": [
        {
          "output_type": "stream",
          "text": [
            "Best estimator: LogisticRegression(C=1.0, class_weight=None, dual=False, fit_intercept=True,\n",
            "          intercept_scaling=1, max_iter=100, multi_class='warn',\n",
            "          n_jobs=None, penalty='l2', random_state=None, solver='lbfgs',\n",
            "          tol=0.0001, verbose=0, warm_start=False)\n",
            "Best parameters: {'C': 1.0, 'solver': 'lbfgs'}\n",
            "Best score: 0.8299847490219482\n"
          ],
          "name": "stdout"
        }
      ]
    },
    {
      "metadata": {
        "id": "04tomy3vcvJS",
        "colab_type": "text"
      },
      "cell_type": "markdown",
      "source": [
        "###Results"
      ]
    },
    {
      "metadata": {
        "id": "bZhE0nKtXJ4k",
        "colab_type": "code",
        "outputId": "0dc4282b-d295-4c1b-fa0c-26713ab968a0",
        "colab": {
          "base_uri": "https://localhost:8080/",
          "height": 334
        }
      },
      "cell_type": "code",
      "source": [
        "y = [lr_score, np.mean(cv_scores_lr), gs_lr.score(X_test, y_test)]\n",
        "N = len(y)\n",
        "x = ('LR', 'CV', 'GS')\n",
        "plt.subplots(figsize=(10,5))\n",
        "plt.bar(x, y)\n",
        "plt.ylabel('Accuracy')\n",
        "plt.title('Logistic Regression')\n",
        " \n",
        "plt.show()"
      ],
      "execution_count": 0,
      "outputs": [
        {
          "output_type": "display_data",
          "data": {
            "image/png": "[encoded data removed]",
            "text/plain": [
              "<Figure size 720x360 with 1 Axes>"
            ]
          },
          "metadata": {
            "tags": []
          }
        }
      ]
    },
    {
      "metadata": {
        "id": "isSmbAzslzfT",
        "colab_type": "text"
      },
      "cell_type": "markdown",
      "source": [
        "##Decision Tree"
      ]
    },
    {
      "metadata": {
        "id": "Wf2quniOl2kQ",
        "colab_type": "code",
        "outputId": "4dad1472-ce3c-4a0b-b889-1e596ebbde4c",
        "colab": {
          "base_uri": "https://localhost:8080/",
          "height": 33
        }
      },
      "cell_type": "code",
      "source": [
        "dt = tree.DecisionTreeClassifier()\n",
        "dt = dt.fit(X_train, y_train)\n",
        "clear_output()\n",
        "score_dt=dt.score(X_test, y_test)\n",
        "score_dt"
      ],
      "execution_count": 0,
      "outputs": [
        {
          "output_type": "execute_result",
          "data": {
            "text/plain": [
              "0.8072269186142881"
            ]
          },
          "metadata": {
            "tags": []
          },
          "execution_count": 36
        }
      ]
    },
    {
      "metadata": {
        "id": "8o5gjI1fcmg4",
        "colab_type": "text"
      },
      "cell_type": "markdown",
      "source": [
        "###Cross Validation"
      ]
    },
    {
      "metadata": {
        "id": "dCGvSMEgmOpo",
        "colab_type": "code",
        "outputId": "0ac2bdd8-4fa9-4da4-a8c4-f95cccffeac7",
        "colab": {
          "base_uri": "https://localhost:8080/",
          "height": 33
        }
      },
      "cell_type": "code",
      "source": [
        "cross_val_model = tree.DecisionTreeClassifier()\n",
        "cv_scores_dt = cross_val_score(cross_val_model, fDataX,  fDataY, cv=5, verbose=True)\n",
        "clear_output()\n",
        "print(np.mean(cv_scores_dt))"
      ],
      "execution_count": 0,
      "outputs": [
        {
          "output_type": "stream",
          "text": [
            "0.7681202521774242\n"
          ],
          "name": "stdout"
        }
      ]
    },
    {
      "metadata": {
        "id": "rFNtz0sXcq9c",
        "colab_type": "text"
      },
      "cell_type": "markdown",
      "source": [
        "###Grid Search"
      ]
    },
    {
      "metadata": {
        "id": "dpH-Q5Uic0gY",
        "colab_type": "code",
        "outputId": "0a689b46-96ac-4fb4-ee13-661aa09f6ec4",
        "colab": {
          "base_uri": "https://localhost:8080/",
          "height": 33
        }
      },
      "cell_type": "code",
      "source": [
        "depths = np.arange(1, 21)\n",
        "num_leafs = [1, 5, 10, 20, 50, 100]\n",
        "params = dict(max_depth=depths, min_samples_leaf =num_leafs)\n",
        "clf = GridSearchCV(estimator=dt, param_grid = params,cv=5, verbose=True)\n",
        "gs_dt = clf.fit(X_train, y_train)\n",
        "gs_score_dt=gs_dt.score(X_test, y_test)\n",
        "clear_output()\n",
        "gs_score_dt"
      ],
      "execution_count": 0,
      "outputs": [
        {
          "output_type": "execute_result",
          "data": {
            "text/plain": [
              "0.8524780374606332"
            ]
          },
          "metadata": {
            "tags": []
          },
          "execution_count": 38
        }
      ]
    },
    {
      "metadata": {
        "id": "1p6JvJOqrlP4",
        "colab_type": "code",
        "outputId": "89306dbf-50f2-492a-dee3-13e844850e74",
        "colab": {
          "base_uri": "https://localhost:8080/",
          "height": 150
        }
      },
      "cell_type": "code",
      "source": [
        "print(\"Best estimator:\", gs_dt.best_estimator_) \n",
        "print(\"Best parameters:\", gs_dt.best_params_)\n",
        "print(\"Best score:\", gs_dt.best_score_)"
      ],
      "execution_count": 0,
      "outputs": [
        {
          "output_type": "stream",
          "text": [
            "Best estimator: DecisionTreeClassifier(class_weight=None, criterion='gini', max_depth=9,\n",
            "            max_features=None, max_leaf_nodes=None,\n",
            "            min_impurity_decrease=0.0, min_impurity_split=None,\n",
            "            min_samples_leaf=10, min_samples_split=2,\n",
            "            min_weight_fraction_leaf=0.0, presort=False, random_state=None,\n",
            "            splitter='best')\n",
            "Best parameters: {'max_depth': 9, 'min_samples_leaf': 10}\n",
            "Best score: 0.8558166521612997\n"
          ],
          "name": "stdout"
        }
      ]
    },
    {
      "metadata": {
        "id": "FZQxwOVAcy5C",
        "colab_type": "text"
      },
      "cell_type": "markdown",
      "source": [
        "###Results"
      ]
    },
    {
      "metadata": {
        "id": "WKOWDapFWALp",
        "colab_type": "code",
        "outputId": "e950ef8b-767e-479b-aa3b-31ac036ad303",
        "colab": {
          "base_uri": "https://localhost:8080/",
          "height": 334
        }
      },
      "cell_type": "code",
      "source": [
        "y = [score_dt, np.mean(cv_scores_dt), gs_score_dt]\n",
        "N = len(y)\n",
        "x = ('DT', 'CV', 'GS')\n",
        "plt.subplots(figsize=(10,5))\n",
        "plt.bar(x, y)\n",
        "plt.ylabel('Accuracy')\n",
        "plt.title('Decision Tree')\n",
        " \n",
        "plt.show()"
      ],
      "execution_count": 0,
      "outputs": [
        {
          "output_type": "display_data",
          "data": {
            "image/png": "[encoded data removed]",
            "text/plain": [
              "<Figure size 720x360 with 1 Axes>"
            ]
          },
          "metadata": {
            "tags": []
          }
        }
      ]
    },
    {
      "metadata": {
        "id": "U6VdR1T5OEGS",
        "colab_type": "text"
      },
      "cell_type": "markdown",
      "source": [
        "##SVM"
      ]
    },
    {
      "metadata": {
        "id": "q2bJFWhzOalh",
        "colab_type": "code",
        "outputId": "1f31fc06-a363-4d11-b84c-8d60cc0b92ef",
        "colab": {
          "base_uri": "https://localhost:8080/",
          "height": 33
        }
      },
      "cell_type": "code",
      "source": [
        "clf=svm.SVC()\n",
        "svm = clf.fit(X_train, y_train)\n",
        "clear_output()\n",
        "score_svm=svm.score(X_test, y_test)\n",
        "score_svm"
      ],
      "execution_count": 0,
      "outputs": [
        {
          "output_type": "execute_result",
          "data": {
            "text/plain": [
              "0.843858776727996"
            ]
          },
          "metadata": {
            "tags": []
          },
          "execution_count": 40
        }
      ]
    },
    {
      "metadata": {
        "id": "EaBcTCgedJtL",
        "colab_type": "text"
      },
      "cell_type": "markdown",
      "source": [
        "###Cross Validation"
      ]
    },
    {
      "metadata": {
        "id": "pwnXbs6SOHHN",
        "colab_type": "code",
        "outputId": "102d47f1-829b-434f-e878-7c9d6a951b36",
        "colab": {
          "base_uri": "https://localhost:8080/",
          "height": 33
        }
      },
      "cell_type": "code",
      "source": [
        "from sklearn import svm\n",
        "cross_val_model = svm.SVC()\n",
        "cv_scores_svm = cross_val_score(cross_val_model, fDataX,  fDataY, cv=5, verbose=True)\n",
        "clear_output()\n",
        "print(np.mean(cv_scores_svm))"
      ],
      "execution_count": 0,
      "outputs": [
        {
          "output_type": "stream",
          "text": [
            "0.8283593508905147\n"
          ],
          "name": "stdout"
        }
      ]
    },
    {
      "metadata": {
        "id": "UcsX7jM_hCas",
        "colab_type": "text"
      },
      "cell_type": "markdown",
      "source": [
        "###Grid Search"
      ]
    },
    {
      "metadata": {
        "id": "iM-GKmJbhTmu",
        "colab_type": "code",
        "outputId": "e236182f-9996-4356-fbb9-031d9d7b8da3",
        "colab": {
          "base_uri": "https://localhost:8080/",
          "height": 33
        }
      },
      "cell_type": "code",
      "source": [
        "from sklearn import svm\n",
        "Cs = [0.001, 0.01, 0.1, 1, 10]\n",
        "gammas = [0.001, 0.01, 0.1, 1]\n",
        "params = dict(C=Cs, gamma=gammas)\n",
        "clf = GridSearchCV(estimator=svm.SVC(), param_grid = params,cv=5, verbose=True)\n",
        "gs_svm = clf.fit(X_train, y_train)\n",
        "gs_score_svm=gs_svm.score(X_test, y_test)\n",
        "clear_output()\n",
        "gs_score_svm  "
      ],
      "execution_count": 0,
      "outputs": [
        {
          "output_type": "execute_result",
          "data": {
            "text/plain": [
              "0.8470081219956904"
            ]
          },
          "metadata": {
            "tags": []
          },
          "execution_count": 42
        }
      ]
    },
    {
      "metadata": {
        "id": "Ma89QItfreQy",
        "colab_type": "code",
        "outputId": "4e72fb73-66c0-4a10-8635-20707e290f19",
        "colab": {
          "base_uri": "https://localhost:8080/",
          "height": 117
        }
      },
      "cell_type": "code",
      "source": [
        "print(\"Best estimator:\", gs_svm.best_estimator_) \n",
        "print(\"Best parameters:\", gs_svm.best_params_)\n",
        "print(\"Best score:\", gs_svm.best_score_)"
      ],
      "execution_count": 0,
      "outputs": [
        {
          "output_type": "stream",
          "text": [
            "Best estimator: SVC(C=1, cache_size=200, class_weight=None, coef0=0.0,\n",
            "  decision_function_shape='ovr', degree=3, gamma=0.1, kernel='rbf',\n",
            "  max_iter=-1, probability=False, random_state=None, shrinking=True,\n",
            "  tol=0.001, verbose=False)\n",
            "Best parameters: {'C': 1, 'gamma': 0.1}\n",
            "Best score: 0.8544075593683949\n"
          ],
          "name": "stdout"
        }
      ]
    },
    {
      "metadata": {
        "id": "zSxHJkdORY_4",
        "colab_type": "text"
      },
      "cell_type": "markdown",
      "source": [
        "###Results"
      ]
    },
    {
      "metadata": {
        "id": "z2aPhzBDDxV8",
        "colab_type": "code",
        "outputId": "b6e59064-c106-461a-f091-84bcfa43e7b1",
        "colab": {
          "base_uri": "https://localhost:8080/",
          "height": 334
        }
      },
      "cell_type": "code",
      "source": [
        "y = [score_svm, np.mean(cv_scores_svm), gs_score_svm]\n",
        "N = len(y)\n",
        "x = ('SVM', 'CV', 'GS')\n",
        "plt.subplots(figsize=(10,5))\n",
        "plt.bar(x, y)\n",
        "plt.ylabel('Accuracy')\n",
        "plt.title('SVM')\n",
        " \n",
        "plt.show()"
      ],
      "execution_count": 0,
      "outputs": [
        {
          "output_type": "display_data",
          "data": {
            "image/png": "[encoded data removed]",
            "text/plain": [
              "<Figure size 720x360 with 1 Axes>"
            ]
          },
          "metadata": {
            "tags": []
          }
        }
      ]
    },
    {
      "metadata": {
        "id": "ZelXC0Eum5_F",
        "colab_type": "text"
      },
      "cell_type": "markdown",
      "source": [
        "##KNN"
      ]
    },
    {
      "metadata": {
        "id": "5S43QrZuRnZ2",
        "colab_type": "code",
        "outputId": "f121e5af-5261-474f-9f02-340e04e43b48",
        "colab": {
          "base_uri": "https://localhost:8080/",
          "height": 33
        }
      },
      "cell_type": "code",
      "source": [
        "knn = KNN()\n",
        "knn.fit(X_train, y_train)\n",
        "score_knn = knn.score(X_test, y_test)\n",
        "clear_output()\n",
        "score_knn"
      ],
      "execution_count": 0,
      "outputs": [
        {
          "output_type": "execute_result",
          "data": {
            "text/plain": [
              "0.8264545002486325"
            ]
          },
          "metadata": {
            "tags": []
          },
          "execution_count": 44
        }
      ]
    },
    {
      "metadata": {
        "id": "56UFZbTWo7KK",
        "colab_type": "text"
      },
      "cell_type": "markdown",
      "source": [
        "###Cross Validation"
      ]
    },
    {
      "metadata": {
        "id": "Jxk0y35ko6qf",
        "colab_type": "code",
        "colab": {}
      },
      "cell_type": "code",
      "source": [
        "\n",
        "cross_val_model = KNN()\n",
        "cv_scores_knn = cross_val_score(cross_val_model, fDataX,  fDataY, cv=5, verbose=True)\n",
        "clear_output()\n",
        "print(np.mean(cv_scores_knn))"
      ],
      "execution_count": 0,
      "outputs": []
    },
    {
      "metadata": {
        "id": "no5ui_MQqZ85",
        "colab_type": "text"
      },
      "cell_type": "markdown",
      "source": [
        "###Grid Search"
      ]
    },
    {
      "metadata": {
        "id": "CRP4ZUMzqbxL",
        "colab_type": "code",
        "outputId": "b72ad273-c497-4ada-9a4a-840f18e4fea9",
        "colab": {
          "base_uri": "https://localhost:8080/",
          "height": 33
        }
      },
      "cell_type": "code",
      "source": [
        "k_range=(np.floor((np.linspace(5, np.sqrt(len(fData)), 10)))).astype(int)\n",
        "params = dict(n_neighbors = k_range)\n",
        "clf = GridSearchCV(estimator=knn, param_grid = params,cv=5, verbose=True)\n",
        "gs_knn = clf.fit(X_train, y_train)\n",
        "gs_score_knn=gs_knn.score(X_test, y_test)\n",
        "clear_output()\n",
        "gs_score_knn"
      ],
      "execution_count": 0,
      "outputs": [
        {
          "output_type": "execute_result",
          "data": {
            "text/plain": [
              "0.8359025360517156"
            ]
          },
          "metadata": {
            "tags": []
          },
          "execution_count": 46
        }
      ]
    },
    {
      "metadata": {
        "id": "sUcjscBvqlBG",
        "colab_type": "code",
        "outputId": "7034d5d9-a4bb-476e-fdae-ca46fc981369",
        "colab": {
          "base_uri": "https://localhost:8080/",
          "height": 100
        }
      },
      "cell_type": "code",
      "source": [
        "print(\"Best estimator:\", gs_knn.best_estimator_) \n",
        "print(\"Best parameters:\", gs_knn.best_params_)\n",
        "print(\"Best score:\", gs_knn.best_score_)"
      ],
      "execution_count": 0,
      "outputs": [
        {
          "output_type": "stream",
          "text": [
            "Best estimator: KNeighborsClassifier(algorithm='auto', leaf_size=30, metric='minkowski',\n",
            "           metric_params=None, n_jobs=None, n_neighbors=61, p=2,\n",
            "           weights='uniform')\n",
            "Best parameters: {'n_neighbors': 61}\n",
            "Best score: 0.839031870363463\n"
          ],
          "name": "stdout"
        }
      ]
    },
    {
      "metadata": {
        "id": "6WiwaxG7Yvt7",
        "colab_type": "text"
      },
      "cell_type": "markdown",
      "source": [
        "###Results"
      ]
    },
    {
      "metadata": {
        "id": "FmVH-nKHtW5U",
        "colab_type": "code",
        "outputId": "0a8b0c1a-cfc5-47a2-bc96-412c46c92731",
        "colab": {
          "base_uri": "https://localhost:8080/",
          "height": 334
        }
      },
      "cell_type": "code",
      "source": [
        "y = [score_knn, np.mean(cv_scores_knn), gs_score_knn]\n",
        "N = len(y)\n",
        "x = ('KNN', 'CV', 'GS')\n",
        "plt.subplots(figsize=(10,5))\n",
        "plt.bar(x, y)\n",
        "plt.ylabel('Accuracy')\n",
        "plt.title('KNN')\n",
        " \n",
        "plt.show()"
      ],
      "execution_count": 0,
      "outputs": [
        {
          "output_type": "display_data",
          "data": {
            "image/png": "[encoded data removed]",
            "text/plain": [
              "<Figure size 720x360 with 1 Axes>"
            ]
          },
          "metadata": {
            "tags": []
          }
        }
      ]
    }
  ]
}